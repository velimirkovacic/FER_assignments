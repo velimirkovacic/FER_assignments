{
 "cells": [
  {
   "attachments": {},
   "cell_type": "markdown",
   "metadata": {
    "id": "cphH-e6Mq3ji"
   },
   "source": [
    "# 7 Recurrent neural networks\n",
    "In this exercise we will try a simple experiment with a recurrent neural network. One of the well-known recurrent neural network models is the so called Long short-term memory (LSTM) network. More information on LSTM can be found in the text [Understanding LSTM Networks](http://colah.github.io/posts/2015-08-Understanding-LSTMs/).\n",
    "\n",
    "## 7.1 The MNIST dataset revisited (1)\n",
    "In one of the previous exercises the MNIST dataset was used to demonstrate the use of multilayer perceptron. Here we are going to apply a recurrent neural network to the problem of digits classification. To keep it simple, we will use a simple LSTM network that will be fed with one row of the image at a time. With each new row, it will update its states and give its prediction. What we are interested in is its prediction after the last row i.e. after it has the full information."
   ]
  },
  {
   "cell_type": "code",
   "execution_count": 12,
   "metadata": {},
   "outputs": [],
   "source": [
    "import torch\n",
    "import torch.nn as nn\n",
    "import torch.optim as optim\n",
    "from torchvision import datasets, transforms"
   ]
  },
  {
   "cell_type": "code",
   "execution_count": 9,
   "metadata": {
    "id": "h69cwQIWq3jm"
   },
   "outputs": [
    {
     "name": "stdout",
     "output_type": "stream",
     "text": [
      "Rows = 1\n",
      "Epoch [1/10], Test Accuracy: 11.35%\n",
      "Epoch [2/10], Test Accuracy: 11.35%\n",
      "Epoch [3/10], Test Accuracy: 11.35%\n",
      "Epoch [4/10], Test Accuracy: 11.35%\n",
      "Epoch [5/10], Test Accuracy: 11.35%\n",
      "Epoch [6/10], Test Accuracy: 11.35%\n",
      "Epoch [7/10], Test Accuracy: 11.35%\n",
      "Epoch [8/10], Test Accuracy: 11.35%\n",
      "Epoch [9/10], Test Accuracy: 11.35%\n",
      "Epoch [10/10], Test Accuracy: 11.35%\n",
      "Rows = 5\n",
      "Epoch [1/10], Test Accuracy: 34.16%\n",
      "Epoch [2/10], Test Accuracy: 34.42%\n",
      "Epoch [3/10], Test Accuracy: 34.59%\n",
      "Epoch [4/10], Test Accuracy: 35.26%\n",
      "Epoch [5/10], Test Accuracy: 35.06%\n",
      "Epoch [6/10], Test Accuracy: 35.38%\n",
      "Epoch [7/10], Test Accuracy: 35.20%\n",
      "Epoch [8/10], Test Accuracy: 35.21%\n",
      "Epoch [9/10], Test Accuracy: 35.40%\n",
      "Epoch [10/10], Test Accuracy: 35.45%\n",
      "Rows = 10\n",
      "Epoch [1/10], Test Accuracy: 76.96%\n",
      "Epoch [2/10], Test Accuracy: 78.80%\n",
      "Epoch [3/10], Test Accuracy: 80.06%\n",
      "Epoch [4/10], Test Accuracy: 80.52%\n",
      "Epoch [5/10], Test Accuracy: 80.93%\n",
      "Epoch [6/10], Test Accuracy: 80.99%\n",
      "Epoch [7/10], Test Accuracy: 81.44%\n",
      "Epoch [8/10], Test Accuracy: 81.50%\n",
      "Epoch [9/10], Test Accuracy: 81.66%\n",
      "Epoch [10/10], Test Accuracy: 81.82%\n",
      "Rows = 15\n",
      "Epoch [1/10], Test Accuracy: 93.23%\n",
      "Epoch [2/10], Test Accuracy: 93.74%\n",
      "Epoch [3/10], Test Accuracy: 94.01%\n",
      "Epoch [4/10], Test Accuracy: 94.20%\n",
      "Epoch [5/10], Test Accuracy: 94.67%\n",
      "Epoch [6/10], Test Accuracy: 94.90%\n",
      "Epoch [7/10], Test Accuracy: 94.88%\n",
      "Epoch [8/10], Test Accuracy: 95.12%\n",
      "Epoch [9/10], Test Accuracy: 95.29%\n",
      "Epoch [10/10], Test Accuracy: 95.18%\n",
      "Rows = 20\n",
      "Epoch [1/10], Test Accuracy: 96.21%\n",
      "Epoch [2/10], Test Accuracy: 97.14%\n",
      "Epoch [3/10], Test Accuracy: 97.21%\n",
      "Epoch [4/10], Test Accuracy: 97.31%\n",
      "Epoch [5/10], Test Accuracy: 97.42%\n",
      "Epoch [6/10], Test Accuracy: 97.51%\n",
      "Epoch [7/10], Test Accuracy: 97.35%\n",
      "Epoch [8/10], Test Accuracy: 97.58%\n",
      "Epoch [9/10], Test Accuracy: 97.66%\n",
      "Epoch [10/10], Test Accuracy: 97.84%\n",
      "Rows = 28\n",
      "Epoch [1/10], Test Accuracy: 97.43%\n",
      "Epoch [2/10], Test Accuracy: 97.56%\n",
      "Epoch [3/10], Test Accuracy: 97.55%\n",
      "Epoch [4/10], Test Accuracy: 97.78%\n",
      "Epoch [5/10], Test Accuracy: 97.98%\n",
      "Epoch [6/10], Test Accuracy: 97.98%\n",
      "Epoch [7/10], Test Accuracy: 97.75%\n",
      "Epoch [8/10], Test Accuracy: 98.00%\n",
      "Epoch [9/10], Test Accuracy: 98.04%\n",
      "Epoch [10/10], Test Accuracy: 98.05%\n",
      "[1, 5, 10, 15, 20, 28]\n",
      "[11.35, 35.45, 81.82, 95.18, 97.84, 98.05]\n"
     ]
    }
   ],
   "source": [
    "\n",
    "\n",
    "# Constants\n",
    "learning_rate = 0.001\n",
    "num_epochs = 10\n",
    "batch_size = 100\n",
    "#we will feed a row at a time to the LSTM and there are 28 rows per image\n",
    "timesteps = 28\n",
    "#each row has 28 columns whose values are simultaneously passed to LSTM\n",
    "n_input = 28 # MNIST data input (img shape: 28*28)\n",
    "#the number of hidden states in the LSTM\n",
    "n_hidden = 128\n",
    "n_classes = 10\n",
    "\n",
    "# Data transformation\n",
    "transform = transforms.Compose([transforms.ToTensor(), transforms.Normalize((0.1307,), (0.3081,))])\n",
    "train_dataset = datasets.MNIST(root='./data', train=True, transform=transform, download=True)\n",
    "train_loader = torch.utils.data.DataLoader(train_dataset, batch_size=batch_size, shuffle=True)\n",
    "test_dataset = datasets.MNIST(root='./data', train=False, transform=transform)\n",
    "test_loader = torch.utils.data.DataLoader(test_dataset, batch_size=batch_size, shuffle=False)\n",
    "\n",
    "# Define the LSTM model\n",
    "class LSTMModel(nn.Module):\n",
    "    def __init__(self, input_size, hidden_size, num_layers, num_classes):\n",
    "        super(LSTMModel, self).__init__()\n",
    "        self.hidden_size = hidden_size\n",
    "        self.num_layers = num_layers\n",
    "        self.lstm = nn.LSTM(input_size, hidden_size, num_layers, batch_first=True)\n",
    "        self.fc = nn.Linear(hidden_size, num_classes)\n",
    "\n",
    "    def forward(self, x):\n",
    "        h0 = torch.zeros(self.num_layers, x.size(0), self.hidden_size).to(device)\n",
    "        c0 = torch.zeros(self.num_layers, x.size(0), self.hidden_size).to(device)\n",
    "        out, _ = self.lstm(x, (h0, c0))\n",
    "        out = self.fc(out[:, -1, :])\n",
    "        return out\n",
    "\n",
    "# Initialize the model\n",
    "device = torch.device('cuda' if torch.cuda.is_available() else 'cpu')\n",
    "model = LSTMModel(n_input, n_hidden, 1, n_classes).to(device)\n",
    "\n",
    "# Loss and optimizer\n",
    "criterion = nn.CrossEntropyLoss()\n",
    "optimizer = optim.Adam(model.parameters(), lr=learning_rate)\n",
    "\n",
    "# Training loop\n",
    "total_step = len(train_loader)\n",
    "rows = [1, 5, 10, 15, 20 ,28]\n",
    "accs = []\n",
    "for row in rows:\n",
    "    print(\"Rows =\", row)\n",
    "    for epoch in range(num_epochs):\n",
    "        for i, (images, labels) in enumerate(train_loader):\n",
    "            images = images.view(-1, timesteps, n_input)[:, :row, :].to(device)\n",
    "            labels = labels.to(device)\n",
    "\n",
    "            # Forward pass\n",
    "            outputs = model(images)\n",
    "            loss = criterion(outputs, labels)\n",
    "\n",
    "            # Backward pass and optimize\n",
    "            optimizer.zero_grad()\n",
    "            loss.backward()\n",
    "            optimizer.step()\n",
    "\n",
    "        # Test the model\n",
    "        if (epoch + 1) % 1 == 0:\n",
    "            with torch.no_grad():\n",
    "                correct = 0\n",
    "                total = 0\n",
    "                for images, labels in test_loader:\n",
    "                    images = images.view(-1, timesteps, n_input)[:, :row, :].to(device)\n",
    "                    labels = labels.to(device)\n",
    "                    outputs = model(images)\n",
    "                    _, predicted = torch.max(outputs.data, 1)\n",
    "                    total += labels.size(0)\n",
    "                    correct += (predicted == labels).sum().item()\n",
    "\n",
    "                accuracy = 100 * correct / total\n",
    "                print(f'Epoch [{epoch + 1}/{num_epochs}], Test Accuracy: {accuracy:.2f}%')\n",
    "                if epoch + 1 == num_epochs:\n",
    "                    accs += [accuracy]\n",
    "print(rows)\n",
    "print(accs)"
   ]
  },
  {
   "attachments": {},
   "cell_type": "markdown",
   "metadata": {
    "collapsed": true,
    "id": "iRbpYMdrq3jn"
   },
   "source": [
    "**Tasks**\n",
    "\n",
    "1. Study and run the code above.\n",
    "2. Draw a plot that shows the relation between the number of rows given to the network and its final accuracy on the test set.\n",
    "3. What happens if we use gradient descent instead of Adam?\n"
   ]
  },
  {
   "cell_type": "code",
   "execution_count": 10,
   "metadata": {},
   "outputs": [
    {
     "data": {
      "image/png": "[encoded data removed]",
      "text/plain": [
       "<Figure size 640x480 with 1 Axes>"
      ]
     },
     "metadata": {},
     "output_type": "display_data"
    }
   ],
   "source": [
    "import matplotlib.pyplot as plt\n",
    "\n",
    "plt.plot(rows, accs)\n",
    "plt.xlabel(\"Number of rows\")\n",
    "plt.ylabel(\"Accuracy\")\n",
    "plt.title(\"2.\")\n",
    "plt.show()"
   ]
  },
  {
   "cell_type": "code",
   "execution_count": 11,
   "metadata": {},
   "outputs": [
    {
     "name": "stdout",
     "output_type": "stream",
     "text": [
      "Epoch [1/10], Test Accuracy: 8.83%\n",
      "Epoch [2/10], Test Accuracy: 7.92%\n",
      "Epoch [3/10], Test Accuracy: 12.51%\n",
      "Epoch [4/10], Test Accuracy: 11.36%\n",
      "Epoch [5/10], Test Accuracy: 11.46%\n",
      "Epoch [6/10], Test Accuracy: 11.50%\n",
      "Epoch [7/10], Test Accuracy: 11.52%\n",
      "Epoch [8/10], Test Accuracy: 11.53%\n",
      "Epoch [9/10], Test Accuracy: 11.61%\n",
      "Epoch [10/10], Test Accuracy: 11.88%\n"
     ]
    }
   ],
   "source": [
    "import torch\n",
    "import torch.nn as nn\n",
    "import torch.optim as optim\n",
    "from torchvision import datasets, transforms\n",
    "\n",
    "# Constants\n",
    "learning_rate = 0.001\n",
    "num_epochs = 10\n",
    "batch_size = 100\n",
    "#we will feed a row at a time to the LSTM and there are 28 rows per image\n",
    "timesteps = 28\n",
    "#each row has 28 columns whose values are simultaneously passed to LSTM\n",
    "n_input = 28 # MNIST data input (img shape: 28*28)\n",
    "#the number of hidden states in the LSTM\n",
    "n_hidden = 128\n",
    "n_classes = 10\n",
    "\n",
    "# Data transformation\n",
    "transform = transforms.Compose([transforms.ToTensor(), transforms.Normalize((0.1307,), (0.3081,))])\n",
    "train_dataset = datasets.MNIST(root='./data', train=True, transform=transform, download=True)\n",
    "train_loader = torch.utils.data.DataLoader(train_dataset, batch_size=batch_size, shuffle=True)\n",
    "test_dataset = datasets.MNIST(root='./data', train=False, transform=transform)\n",
    "test_loader = torch.utils.data.DataLoader(test_dataset, batch_size=batch_size, shuffle=False)\n",
    "\n",
    "# Define the LSTM model\n",
    "class LSTMModel(nn.Module):\n",
    "    def __init__(self, input_size, hidden_size, num_layers, num_classes):\n",
    "        super(LSTMModel, self).__init__()\n",
    "        self.hidden_size = hidden_size\n",
    "        self.num_layers = num_layers\n",
    "        self.lstm = nn.LSTM(input_size, hidden_size, num_layers, batch_first=True)\n",
    "        self.fc = nn.Linear(hidden_size, num_classes)\n",
    "\n",
    "    def forward(self, x):\n",
    "        h0 = torch.zeros(self.num_layers, x.size(0), self.hidden_size).to(device)\n",
    "        c0 = torch.zeros(self.num_layers, x.size(0), self.hidden_size).to(device)\n",
    "        out, _ = self.lstm(x, (h0, c0))\n",
    "        out = self.fc(out[:, -1, :])\n",
    "        return out\n",
    "\n",
    "# Initialize the model\n",
    "device = torch.device('cuda' if torch.cuda.is_available() else 'cpu')\n",
    "model = LSTMModel(n_input, n_hidden, 1, n_classes).to(device)\n",
    "\n",
    "# Loss and optimizer\n",
    "criterion = nn.CrossEntropyLoss()\n",
    "optimizer = optim.SGD(model.parameters(), lr=learning_rate)\n",
    "\n",
    "# Training loop\n",
    "total_step = len(train_loader)\n",
    "\n",
    "\n",
    "for epoch in range(num_epochs):\n",
    "    for i, (images, labels) in enumerate(train_loader):\n",
    "        images = images.view(-1, timesteps, n_input).to(device)\n",
    "        labels = labels.to(device)\n",
    "\n",
    "        # Forward pass\n",
    "        outputs = model(images)\n",
    "        loss = criterion(outputs, labels)\n",
    "\n",
    "        # Backward pass and optimize\n",
    "        optimizer.zero_grad()\n",
    "        loss.backward()\n",
    "        optimizer.step()\n",
    "\n",
    "    # Test the model\n",
    "    if (epoch + 1) % 1 == 0:\n",
    "        with torch.no_grad():\n",
    "            correct = 0\n",
    "            total = 0\n",
    "            for images, labels in test_loader:\n",
    "                images = images.view(-1, timesteps, n_input).to(device)\n",
    "                labels = labels.to(device)\n",
    "                outputs = model(images)\n",
    "                _, predicted = torch.max(outputs.data, 1)\n",
    "                total += labels.size(0)\n",
    "                correct += (predicted == labels).sum().item()\n",
    "\n",
    "            accuracy = 100 * correct / total\n",
    "            print(f'Epoch [{epoch + 1}/{num_epochs}], Test Accuracy: {accuracy:.2f}%')\n",
    "            if epoch + 1 == num_epochs:\n",
    "                accs += [accuracy]\n"
   ]
  },
  {
   "attachments": {},
   "cell_type": "markdown",
   "metadata": {},
   "source": [
    "3. We get much worse results, the accuracy at the end is only 11.88%."
   ]
  },
  {
   "attachments": {},
   "cell_type": "markdown",
   "metadata": {
    "id": "NNpp9Ppweg3Q"
   },
   "source": [
    "# 8 Convolutional neural networks\n",
    "\n",
    "\n",
    "The goal of this exercise is to learn the basic stuff about [convolutional neural networks](https://en.wikipedia.org/wiki/Convolutional_neural_network) (CNN or ConvNet). In the previous exercises, the building blocks mostly included simple operations that had some kind of activations functions and each layer was usually fully connected to the previous one. CNNs take into account the spatial nature of the input data, e.g. an image, and they process it by applying one or more  [kernels](https://en.wikipedia.org/wiki/Kernel_%28image_processing%29). In the case of images, this processing i.e. convolving is also known as filtering. The results of processing the input with a single kernel will be a single channel, but usually a convolutional layer involves more kernels producing more channels. These channels are often called **feature maps** because each kernel is specialized for extraction of a certain kind of features from the input. These feature maps are then combined into a single tensor that can be viewed as an image with multiple channels that can be then passed to further convolutional layers.\n",
    "\n",
    "For example, if the input consists of a grayscale image i.e. an image with only one channel and a $5\\times 5$ kernel is applied, the result is a single feature map. The borders of the input image are usually padded with zeros to ensure that the resulting feature maps has the same number of rows and columns as the input image.\n",
    "\n",
    "If the input consists of a color image i.e. an image with three channels and a $5\\times 5$ kernel is applied, what will actually be applied is an $5\\times 5\\times 3$ kernel that will simultaneously process all three channels and the result will again be a single feature map. However, if e.g. 16 several kernels are applied, then the result will be 16 feature maps. Should they be passed to another convolutional layer, **each** of its kernels would simultaneously process **all** feature maps so their sizes would be e.g. $3\\times 3\\times 16$ or $5\\times 5\\times 16$ where 16 is used to reach all feature maps simultaneously.\n",
    "\n",
    "The convolution is usually followed by applying an element-wise non-linear operation to each of the values in the feature maps. Finally, what often follows is the summarization i.e. pooling of the information in the feature maps to reduce the spatial dimensions and keep only the most important information. A common approach used here is the so called max pooling. It is a non-linear downsampling where the input is divided into a set of non-overlapping rectangles and for each of them only the maximum value inside of it is kept.\n",
    "\n",
    "![Model of a neuron](data:image/png;base64,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)\n",
    "<center>Figure 1. Max pooling with $2\\times 2$ rectangles (taken from [Wikipedia](https://en.wikipedia.org/wiki/File:Max_pooling.png)).</center>\n",
    "\n",
    "What usually follows after several convolutional layers is putting the values of all feature maps into a single vector, which is then passed further to fully connected or other kinds of layers.\n",
    "\n",
    "The number of parameters in the convolutional depends on the number of feature maps and the sizes of the kernels. For example, if a convolutional layer with 32 kernels of nominal size $3\\times 3$ receives 16 feature maps on its input, it will require $16\\times 3\\times 3\\times 32+32$ where the last 32 parameters refer to the kernel biases."
   ]
  },
  {
   "attachments": {},
   "cell_type": "markdown",
   "metadata": {
    "id": "Ms42xQeSVkOO"
   },
   "source": [
    "### Google Colab preliminaries\n",
    "\n",
    "Upload the zipped cnn_img folder to Google Colab and ensure the paths in the notebook are adjusted accordingly.\n",
    "\n",
    "If the notebook is not run on Google Colab, skip the following commands."
   ]
  },
  {
   "cell_type": "code",
   "execution_count": null,
   "metadata": {
    "id": "Kmh4zv-2rzmX"
   },
   "outputs": [],
   "source": [
    "from google.colab import drive\n",
    "drive.mount('/content/gdrive')"
   ]
  },
  {
   "cell_type": "code",
   "execution_count": null,
   "metadata": {
    "id": "j8Wz1GQ5ZUlZ"
   },
   "outputs": [],
   "source": [
    "!unzip /content/cnn_img.zip"
   ]
  },
  {
   "attachments": {},
   "cell_type": "markdown",
   "metadata": {
    "id": "OJdpRk2gV9q4"
   },
   "source": [
    "## 8.1 The MNIST dataset revisited (2)\n",
    "In one of the previous exercises the MNIST dataset was used to demonstrate the use of multilayer perceptron. Here we are going to apply a convolutional neural network to the digit classification problem. We will use the following layers to build our model:\n",
    "\n",
    "* [torch.nn.ReLU](https://pytorch.org/docs/stable/generated/torch.nn.ReLU.html#torch.nn.ReLU)\n",
    "* [torch.nn.Conv2d](https://pytorch.org/docs/stable/generated/torch.nn.Conv2d.html#torch.nn.Conv2d)\n",
    "* [torch.nn.MaxPool2d](https://pytorch.org/docs/stable/generated/torch.nn.MaxPool2d.html#torch.nn.MaxPool2d)\n",
    "* [torch.nn.Linear](https://pytorch.org/docs/stable/generated/torch.nn.Linear.html#torch.nn.Linear)\n",
    "\n",
    "The [torch.nn.Linear](https://pytorch.org/docs/stable/generated/torch.nn.Linear.html#torch.nn.Linear) layer has the same effect as the fully connected layer, a matrix multiplication that was used in the previous exercise with the MNIST dataset.\n",
    "\n",
    "**Tasks**\n",
    "\n",
    "1. Study and run the code below. How is the accuracy compared to the ones obtained in the previous exerises with MNIST?\n",
    "2. Try to change the number and size of convolutional and fully connected layers. What has the greatest impact on the accuracy? For each network architecture configuration calculate the number of trainable parameters.\n",
    "3. What happens to the accuracy if another [non-linearity](https://pytorch.org/docs/stable/nn.html#non-linear-activations-weighted-sum-nonlinearity) is used instead of ReLU? Experiment with at least two different activation functions."
   ]
  },
  {
   "attachments": {},
   "cell_type": "markdown",
   "metadata": {},
   "source": [
    "1. Accuracy is 99.09%, higher compared to 98.05% in the previous excersize.\n",
    "2. It appears that fully connected layer size increase has a beneficial impact on accuracy, followed by kernel size.\n",
    "\n",
    "| Number of convolution layers | Number of fully connected layers | n_fully_connected | kernel_size | Number of parameters | Accuracy |\n",
    "|-|-| - | - | - | - |\n",
    "| 2 | 2 | 128 | 5 | 454922 | 99.09% |\n",
    "| 2 | 2 | 128 | 10  | 610922 | 98.82% |\n",
    "| 2 | 2 | 256 | 5 | 857738 | 99.25% |\n",
    "| 2 | 3 | 128 | 5 | 471434 | 98.74% |\n",
    "\n",
    "\n",
    "3. Sigmoid has 98.86% accuracy, and Tanh has 98.67% accuracy, so both perform worse than ReLU.\n",
    "\n"
   ]
  },
  {
   "cell_type": "code",
   "execution_count": 13,
   "metadata": {
    "id": "m_1TWwNif8WE"
   },
   "outputs": [],
   "source": [
    "import torch\n",
    "import torch.nn as nn\n",
    "import torch.nn.functional as F\n",
    "from torchvision import datasets, transforms\n",
    "import tqdm"
   ]
  },
  {
   "cell_type": "code",
   "execution_count": 55,
   "metadata": {
    "id": "NK79DP85edIb"
   },
   "outputs": [],
   "source": [
    "class CNN(nn.Module):\n",
    "\n",
    "  # Method that defines the layers and other components of a model\n",
    "  def __init__(self,\n",
    "               input_channels,\n",
    "               n_channels_1,\n",
    "               n_channels_2,\n",
    "               n_fully_connected,\n",
    "               n_classes,\n",
    "               kernel_size\n",
    "               ):\n",
    "\n",
    "    super(CNN, self).__init__()\n",
    "\n",
    "    self.conv1 = nn.Conv2d(in_channels=input_channels,\n",
    "                           out_channels=n_channels_1,\n",
    "                           kernel_size=kernel_size,\n",
    "                           padding='same'\n",
    "                           )\n",
    "\n",
    "    self.relu1 = nn.Tanh()\n",
    "\n",
    "    self.maxpool1 = nn.MaxPool2d((2,2))\n",
    "\n",
    "    self.conv2 = nn.Conv2d(in_channels=n_channels_1,\n",
    "                           out_channels=n_channels_2,\n",
    "                           kernel_size=kernel_size,\n",
    "                           padding='same'\n",
    "                           )\n",
    "\n",
    "    self.relu2 = nn.Tanh()\n",
    "\n",
    "    self.maxpool2 = nn.MaxPool2d((2,2))\n",
    "\n",
    "\n",
    "    self.fc1 = nn.Linear(in_features=7*7*n_channels_2, out_features=n_fully_connected, bias=True)\n",
    "\n",
    "    self.relu3 = nn.Tanh()\n",
    "\n",
    "\n",
    "    self.fc2 = nn.Linear(in_features=n_fully_connected, out_features=n_classes, bias=True)\n",
    "\n",
    "  # Method where the computation gets done\n",
    "  def forward(self, x):\n",
    "\n",
    "    # First convolutional layer\n",
    "    # We will apply n_channels_1 kernels of size kernel_size X kernel_size\n",
    "    # We are padding the input in order for the result to have the same number of rows and columns\n",
    "    x = self.conv1(x)\n",
    "\n",
    "    # Applying the non-linearity\n",
    "    x = self.relu1(x)\n",
    "\n",
    "    # and max pooling again, now each feature map will be of size 7 X 7\n",
    "    x = self.maxpool1(x)\n",
    "\n",
    "    # Second convolutional layer\n",
    "    # We will apply n_channels_2 kernels of size kernel_size X kernel_size\n",
    "    x = self.conv2(x)\n",
    "\n",
    "    # again, we apply the non-linearity\n",
    "    x = self.relu2(x)\n",
    "\n",
    "    # and max pooling again, now each feature map will be of size 7 X 7\n",
    "    x = self.maxpool2(x)\n",
    "\n",
    "    # Flatten all dimensions except the batch\n",
    "    x = torch.flatten(x, 1)\n",
    "\n",
    "    # Fully connected layer\n",
    "    x = self.fc1(x)\n",
    "\n",
    "    # and again, we apply the non-linearity\n",
    "    x = self.relu3(x)\n",
    "\n",
    "\n",
    "    # Non-linearity\n",
    "    pred_logits = self.fc2(x)\n",
    "\n",
    "    return pred_logits\n"
   ]
  },
  {
   "cell_type": "code",
   "execution_count": 56,
   "metadata": {
    "id": "FFJtOH6oNfLR"
   },
   "outputs": [],
   "source": [
    "def train_epoch(model, device, train_dataloader, optimizer, epoch):\n",
    "\n",
    "    model.train()\n",
    "\n",
    "    train_loss = 0.0\n",
    "\n",
    "    for batch in tqdm.tqdm(train_dataloader):\n",
    "\n",
    "      # Every data instance is an input image + label pair\n",
    "      images, labels = batch\n",
    "\n",
    "      # It is necessary to have both the model, and the data on the same device, either CPU or GPU, for the model to process data.\n",
    "      # Data on CPU and model on GPU, or vice-versa, will result in a Runtime error.\n",
    "      images, labels = images.to(device), labels.to(device)\n",
    "\n",
    "      # Zero your gradients for every batch\n",
    "      optimizer.zero_grad()\n",
    "\n",
    "      # Make predictions for this batch\n",
    "      pred_logits = model(images)\n",
    "\n",
    "      # Compute the loss\n",
    "      loss = loss_fn(pred_logits, labels)\n",
    "\n",
    "      # Calculates the backward gradients over the learning weights\n",
    "      loss.backward()\n",
    "\n",
    "      # Tells the optimizer to perform one learning step\n",
    "      # Adjust the model�s learning weights based on the observed gradients for this batch\n",
    "      optimizer.step()\n",
    "\n",
    "      train_loss += loss.item()\n",
    "\n",
    "    # Print epoch's average loss\n",
    "    print(\"Epoch {} - Training loss: {}\".format(epoch+1, train_loss/len(train_dataloader)))\n",
    "\n",
    "\n",
    "def evaluation(model, device, test_dataloader, epoch):\n",
    "\n",
    "    # Sets layers like dropout and batch normalization to evaluation mode before running inference\n",
    "    # Failing to do this will yield inconsistent inference results\n",
    "    model.eval()\n",
    "\n",
    "    test_accuracy = 0.0\n",
    "\n",
    "    # Disabling gradient calculation is useful for inference, when you are sure that you will not call Tensor.backward().\n",
    "    # It will reduce memory consumption for computations that would otherwise have requires_grad=True.\n",
    "    with torch.no_grad():\n",
    "\n",
    "      for batch in tqdm.tqdm(test_dataloader):\n",
    "\n",
    "        images, labels = batch\n",
    "\n",
    "        images, labels = images.to(device), labels.to(device)\n",
    "\n",
    "        pred_logits = model(images)\n",
    "\n",
    "        probabilities = torch.nn.functional.softmax(pred_logits, dim=1)\n",
    "\n",
    "        # Find the index of the highest probability\n",
    "        predictions = probabilities.argmax(dim=1)\n",
    "\n",
    "        # Caluculate average batch accuracy\n",
    "        batch_accuracy = torch.mean((predictions == labels).float())\n",
    "\n",
    "        test_accuracy += batch_accuracy\n",
    "\n",
    "      print(\"Epoch {} - Accuracy: {}\".format(epoch+1, test_accuracy/len(test_dataloader)))\n",
    "\n",
    "\n"
   ]
  },
  {
   "cell_type": "code",
   "execution_count": 57,
   "metadata": {
    "id": "xpUS9zIEoZ4p"
   },
   "outputs": [
    {
     "name": "stdout",
     "output_type": "stream",
     "text": [
      "454922\n"
     ]
    }
   ],
   "source": [
    "# Architecture configs\n",
    "input_channels=1\n",
    "n_channels_1=32\n",
    "n_channels_2=64\n",
    "n_classes=10\n",
    "n_fully_connected=128\n",
    "kernel_size=5\n",
    "\n",
    "# Training configs\n",
    "training_epochs_count = 5\n",
    "batch_size = 64\n",
    "learning_rate = 0.001\n",
    "display_step=1\n",
    "\n",
    "# Model\n",
    "model = CNN(input_channels, n_channels_1, n_channels_2, n_fully_connected, n_classes, kernel_size)\n",
    "\n",
    "# Move model to GPU if possible\n",
    "device = torch.device(\"cuda\") if torch.cuda.is_available() else torch.device(\"cpu\")\n",
    "model.to(device)\n",
    "\n",
    "# Augmentations\n",
    "transform=transforms.Compose([\n",
    "    transforms.ToTensor(),\n",
    "    transforms.Normalize((0.1307,), (0.3081,))\n",
    "    ])\n",
    "\n",
    "# Stores the samples and their corresponding labels\n",
    "train_dataset = datasets.MNIST('../data', train=True, download=True, transform=transform)\n",
    "test_dataset = datasets.MNIST('../data', train=False, transform=transform)\n",
    "\n",
    "# Wraps an iterable around the Dataset to enable easy access to the samples.\n",
    "train_dataloader = torch.utils.data.DataLoader(train_dataset, batch_size=batch_size, shuffle=True)\n",
    "test_dataloader = torch.utils.data.DataLoader(test_dataset, batch_size=batch_size, shuffle=False)\n",
    "\n",
    "print(sum(p.numel() for p in model.parameters() if p.requires_grad))"
   ]
  },
  {
   "cell_type": "code",
   "execution_count": 58,
   "metadata": {
    "id": "dPXNNzNl7Lzb"
   },
   "outputs": [
    {
     "name": "stderr",
     "output_type": "stream",
     "text": [
      "100%|██████████| 938/938 [00:15<00:00, 58.65it/s]\n"
     ]
    },
    {
     "name": "stdout",
     "output_type": "stream",
     "text": [
      "Epoch 1 - Training loss: 0.12429419373259393\n"
     ]
    },
    {
     "name": "stderr",
     "output_type": "stream",
     "text": [
      "100%|██████████| 157/157 [00:01<00:00, 82.07it/s]\n"
     ]
    },
    {
     "name": "stdout",
     "output_type": "stream",
     "text": [
      "Epoch 1 - Accuracy: 0.9860668778419495\n"
     ]
    },
    {
     "name": "stderr",
     "output_type": "stream",
     "text": [
      "100%|██████████| 938/938 [00:16<00:00, 57.40it/s]\n"
     ]
    },
    {
     "name": "stdout",
     "output_type": "stream",
     "text": [
      "Epoch 2 - Training loss: 0.044043540948632554\n"
     ]
    },
    {
     "name": "stderr",
     "output_type": "stream",
     "text": [
      "100%|██████████| 157/157 [00:01<00:00, 80.64it/s]\n"
     ]
    },
    {
     "name": "stdout",
     "output_type": "stream",
     "text": [
      "Epoch 2 - Accuracy: 0.9832802414894104\n"
     ]
    },
    {
     "name": "stderr",
     "output_type": "stream",
     "text": [
      "100%|██████████| 938/938 [00:16<00:00, 58.45it/s]\n"
     ]
    },
    {
     "name": "stdout",
     "output_type": "stream",
     "text": [
      "Epoch 3 - Training loss: 0.030910190916669838\n"
     ]
    },
    {
     "name": "stderr",
     "output_type": "stream",
     "text": [
      "100%|██████████| 157/157 [00:01<00:00, 79.09it/s]\n"
     ]
    },
    {
     "name": "stdout",
     "output_type": "stream",
     "text": [
      "Epoch 3 - Accuracy: 0.9856687784194946\n"
     ]
    },
    {
     "name": "stderr",
     "output_type": "stream",
     "text": [
      "100%|██████████| 938/938 [00:16<00:00, 57.32it/s]\n"
     ]
    },
    {
     "name": "stdout",
     "output_type": "stream",
     "text": [
      "Epoch 4 - Training loss: 0.027021294044924458\n"
     ]
    },
    {
     "name": "stderr",
     "output_type": "stream",
     "text": [
      "100%|██████████| 157/157 [00:01<00:00, 80.75it/s]\n"
     ]
    },
    {
     "name": "stdout",
     "output_type": "stream",
     "text": [
      "Epoch 4 - Accuracy: 0.9851711988449097\n"
     ]
    },
    {
     "name": "stderr",
     "output_type": "stream",
     "text": [
      "100%|██████████| 938/938 [00:15<00:00, 59.74it/s]\n"
     ]
    },
    {
     "name": "stdout",
     "output_type": "stream",
     "text": [
      "Epoch 5 - Training loss: 0.022607325256413926\n"
     ]
    },
    {
     "name": "stderr",
     "output_type": "stream",
     "text": [
      "100%|██████████| 157/157 [00:01<00:00, 88.64it/s]"
     ]
    },
    {
     "name": "stdout",
     "output_type": "stream",
     "text": [
      "Epoch 5 - Accuracy: 0.9867635369300842\n"
     ]
    },
    {
     "name": "stderr",
     "output_type": "stream",
     "text": [
      "\n"
     ]
    }
   ],
   "source": [
    "# Define loss function\n",
    "loss_fn = nn.CrossEntropyLoss()\n",
    "\n",
    "# Define optimizer\n",
    "optimizer = torch.optim.Adam(model.parameters(), lr=learning_rate)\n",
    "\n",
    "# Training\n",
    "for epoch in range(training_epochs_count):\n",
    "\n",
    "  train_epoch(model, device, train_dataloader, optimizer, epoch)\n",
    "\n",
    "  if (epoch + 1) % display_step == 0:\n",
    "\n",
    "    evaluation(model, device, test_dataloader, epoch)\n",
    "\n"
   ]
  },
  {
   "attachments": {},
   "cell_type": "markdown",
   "metadata": {
    "id": "EsU9MOc8QmDe"
   },
   "source": [
    "## 8.2 Image classification\n",
    "Image classification is a challenging computer vision problem with the best-known competition being [The ImageNet Large Scale Visual Recognition Challenge (ILSVRC)](http://www.image-net.org/challenges/LSVRC/), which includes the ImageNet dataset with millions of $224\\times 224$ training images. The class names in one of the tasks there can be found [here](https://gist.github.com/yrevar/942d3a0ac09ec9e5eb3a). One of the most important breakthroughs was when in 2012 the convolutional neural network [AlexNet](https://en.wikipedia.org/wiki/AlexNet) won the first place. Ever since many highly successful convolutional neural networks architectures have been proposed, e.g. [VGG-16](https://arxiv.org/abs/1409.1556), [VGG-19](https://arxiv.org/abs/1409.1556), [ResNet](https://www.cv-foundation.org/openaccess/content_cvpr_2016/papers/He_Deep_Residual_Learning_CVPR_2016_paper.pdf), [Inception](https://arxiv.org/abs/1409.4842), etc. Training such networks requires a lot of time because they have many layers with millions of parameters. In this exercise we are going to experiment with pre-trained models of some of the best known architectures.\n",
    "\n",
    "### 8.2.1 Using pre-trained models\n",
    "Try running the following code:"
   ]
  },
  {
   "cell_type": "code",
   "execution_count": 5,
   "metadata": {
    "id": "qOJamRVpQrdo"
   },
   "outputs": [
    {
     "name": "stdout",
     "output_type": "stream",
     "text": [
      "resnet34\n",
      "badger: 99.5%\n",
      "wood rabbit: 89.4%\n",
      "sundial: 100.0%\n",
      "pineapple: 100.0%\n",
      "table lamp: 38.9%\n",
      "vgg16\n",
      "badger: 100.0%\n",
      "wood rabbit: 98.9%\n",
      "sundial: 100.0%\n",
      "pineapple: 97.9%\n",
      "vase: 15.9%\n",
      "vgg19\n",
      "badger: 100.0%\n",
      "wood rabbit: 97.3%\n",
      "sundial: 100.0%\n",
      "pineapple: 99.8%\n",
      "ashcan: 13.0%\n",
      "inceptionv3\n",
      "badger: 95.4%\n",
      "wood rabbit: 90.6%\n",
      "sundial: 85.4%\n",
      "pineapple: 99.3%\n",
      "table lamp: 17.2%\n"
     ]
    }
   ],
   "source": [
    "import torchvision.models as models\n",
    "from torchvision.io import read_image\n",
    "\n",
    "### Choose the architecture\n",
    "for architecture in [\"resnet34\", \"vgg16\", \"vgg19\", \"inceptionv3\"]:\n",
    "  print(architecture)\n",
    "\n",
    "  if architecture == \"resnet34\":\n",
    "    weights = models.ResNet34_Weights.DEFAULT\n",
    "    model = models.resnet34(weights=weights)\n",
    "  elif architecture == \"vgg16\":\n",
    "    weights = models.VGG16_Weights.DEFAULT\n",
    "    model = models.vgg16(pretrained=weights)\n",
    "  elif architecture == \"vgg19\":\n",
    "    weights = models.VGG19_Weights.DEFAULT\n",
    "    model = models.vgg19(pretrained=weights)\n",
    "  elif architecture == \"inceptionv3\":\n",
    "    weights = models.Inception_V3_Weights.DEFAULT\n",
    "    model = models.inception_v3(pretrained=weights)\n",
    "\n",
    "  model.eval()\n",
    "\n",
    "  image_paths=[\"content/cnn_img/badger.jpg\", \"content/cnn_img/rabbit.jpg\", \"content/cnn_img/sundial.jpg\", \"content/cnn_img/pineapple.jpg\", \"content/cnn_img/can.jpg\"]\n",
    "\n",
    "  for path in image_paths:\n",
    "      #loading the image and rescaling it to fit the size for the imagenet architectures\n",
    "      img = read_image(path)\n",
    "      preprocess = weights.transforms(antialias=True)\n",
    "      batch = preprocess(img).unsqueeze(0)\n",
    "\n",
    "      prediction = model(batch).squeeze(0).softmax(0)\n",
    "      class_id = prediction.argmax().item()\n",
    "      score = prediction[class_id].item()\n",
    "      category_name = weights.meta[\"categories\"][class_id]\n",
    "\n",
    "      print(f\"{category_name}: {100 * score:.1f}%\")"
   ]
  },
  {
   "attachments": {},
   "cell_type": "markdown",
   "metadata": {},
   "source": [
    "**Tasks**\n",
    "1. Is there any significant difference between the results of different architectures?\n",
    "2. Try to classify several other images from the folders cnn_img/healthy and cnn_img/unhealthy that you choose on your own. Which cases are problematic?\n"
   ]
  },
  {
   "cell_type": "code",
   "execution_count": 9,
   "metadata": {},
   "outputs": [
    {
     "name": "stdout",
     "output_type": "stream",
     "text": [
      "hamper: 56.2%\n",
      "hamper: 26.6%\n",
      "cheeseburger: 63.2%\n",
      "hot pot: 20.3%\n",
      "cheeseburger: 98.3%\n"
     ]
    }
   ],
   "source": [
    "image_paths=[\"content/cnn_img/healthy/12.jpg\", \"content/cnn_img/healthy/35.jpg\", \"content/cnn_img/healthy/42.jpg\", \"content/cnn_img/unhealthy/44.jpg\", \"content/cnn_img/unhealthy/34.jpg\"]\n",
    "\n",
    "for path in image_paths:\n",
    "    #loading the image and rescaling it to fit the size for the imagenet architectures\n",
    "    img = read_image(path)\n",
    "    preprocess = weights.transforms(antialias=True)\n",
    "    batch = preprocess(img).unsqueeze(0)\n",
    "\n",
    "    prediction = model(batch).squeeze(0).softmax(0)\n",
    "    class_id = prediction.argmax().item()\n",
    "    score = prediction[class_id].item()\n",
    "    category_name = weights.meta[\"categories\"][class_id]\n",
    "\n",
    "    print(f\"{category_name}: {100 * score:.1f}%\")"
   ]
  },
  {
   "attachments": {},
   "cell_type": "markdown",
   "metadata": {},
   "source": [
    "1. There is really no significant difference, they have high accuracy for badger, rabbit, sundial and pineapple, and poor accuracy for can. \n",
    "2. Cases where there are multiple objects are problematic. It mostly classifies them into \"hamper\"."
   ]
  },
  {
   "attachments": {},
   "cell_type": "markdown",
   "metadata": {
    "id": "eZmSyBglaUoa"
   },
   "source": [
    "### 8.2.2 Creating your own classifier - pincers vs. scissors\n",
    "Although ImageNet has a lot of classes, sometimes they do not cover some desired cases. Let's assume that we want to tell images with pincers apart from the ones with scissors. Neither pincers nor scissors are among ImageNet classes. Nevertheless, we can still use some parts of the pre-trained models.\n",
    "\n",
    "Various layers of a deep convolutional network have diferent tasks. The ones closest to the original input image usually look for features such as edges and corners i.e. for low-level features. After them there are layers that look for middle-level features such as circular objects, special curves, etc. Next, there are usually fully connected layers that create high-level semantic features by combining the information from the previous layers. These features are then used by the last layer that performs the actual classification. What we can do here is simply to discard the last layer i.e. not to calculate the class of an image, but to extract the values in on of the fully connected layers. This effectively means that we are going to use the network only as an extractor for high-level features that we would hardly be able to engineer on our own. Let's first see which layers can be found in the ResNet network:"
   ]
  },
  {
   "cell_type": "code",
   "execution_count": 62,
   "metadata": {
    "id": "ztcpyruTRTJD"
   },
   "outputs": [
    {
     "name": "stdout",
     "output_type": "stream",
     "text": [
      "Sequential(\n",
      "  (0): Conv2d(3, 64, kernel_size=(3, 3), stride=(1, 1), padding=(1, 1))\n",
      "  (1): ReLU(inplace=True)\n",
      "  (2): Conv2d(64, 64, kernel_size=(3, 3), stride=(1, 1), padding=(1, 1))\n",
      "  (3): ReLU(inplace=True)\n",
      "  (4): MaxPool2d(kernel_size=2, stride=2, padding=0, dilation=1, ceil_mode=False)\n",
      "  (5): Conv2d(64, 128, kernel_size=(3, 3), stride=(1, 1), padding=(1, 1))\n",
      "  (6): ReLU(inplace=True)\n",
      "  (7): Conv2d(128, 128, kernel_size=(3, 3), stride=(1, 1), padding=(1, 1))\n",
      "  (8): ReLU(inplace=True)\n",
      "  (9): MaxPool2d(kernel_size=2, stride=2, padding=0, dilation=1, ceil_mode=False)\n",
      "  (10): Conv2d(128, 256, kernel_size=(3, 3), stride=(1, 1), padding=(1, 1))\n",
      "  (11): ReLU(inplace=True)\n",
      "  (12): Conv2d(256, 256, kernel_size=(3, 3), stride=(1, 1), padding=(1, 1))\n",
      "  (13): ReLU(inplace=True)\n",
      "  (14): Conv2d(256, 256, kernel_size=(3, 3), stride=(1, 1), padding=(1, 1))\n",
      "  (15): ReLU(inplace=True)\n",
      "  (16): MaxPool2d(kernel_size=2, stride=2, padding=0, dilation=1, ceil_mode=False)\n",
      "  (17): Conv2d(256, 512, kernel_size=(3, 3), stride=(1, 1), padding=(1, 1))\n",
      "  (18): ReLU(inplace=True)\n",
      "  (19): Conv2d(512, 512, kernel_size=(3, 3), stride=(1, 1), padding=(1, 1))\n",
      "  (20): ReLU(inplace=True)\n",
      "  (21): Conv2d(512, 512, kernel_size=(3, 3), stride=(1, 1), padding=(1, 1))\n",
      "  (22): ReLU(inplace=True)\n",
      "  (23): MaxPool2d(kernel_size=2, stride=2, padding=0, dilation=1, ceil_mode=False)\n",
      "  (24): Conv2d(512, 512, kernel_size=(3, 3), stride=(1, 1), padding=(1, 1))\n",
      "  (25): ReLU(inplace=True)\n",
      "  (26): Conv2d(512, 512, kernel_size=(3, 3), stride=(1, 1), padding=(1, 1))\n",
      "  (27): ReLU(inplace=True)\n",
      "  (28): Conv2d(512, 512, kernel_size=(3, 3), stride=(1, 1), padding=(1, 1))\n",
      "  (29): ReLU(inplace=True)\n",
      "  (30): MaxPool2d(kernel_size=2, stride=2, padding=0, dilation=1, ceil_mode=False)\n",
      ")\n",
      "AdaptiveAvgPool2d(output_size=(7, 7))\n",
      "Sequential(\n",
      "  (0): Linear(in_features=25088, out_features=4096, bias=True)\n",
      "  (1): ReLU(inplace=True)\n",
      "  (2): Dropout(p=0.5, inplace=False)\n",
      "  (3): Linear(in_features=4096, out_features=4096, bias=True)\n",
      "  (4): ReLU(inplace=True)\n",
      "  (5): Dropout(p=0.5, inplace=False)\n",
      "  (6): Linear(in_features=4096, out_features=1000, bias=True)\n",
      ")\n"
     ]
    }
   ],
   "source": [
    "import torchvision.models as models\n",
    "import numpy as np\n",
    "\n",
    "architecture=\"vgg16\"\n",
    "\n",
    "if architecture == \"resnet34\":\n",
    "  weights = models.ResNet34_Weights.DEFAULT\n",
    "  base_model = models.resnet34(weights=weights)\n",
    "elif architecture == \"resnet50\":\n",
    "  weights = models.ResNet50_Weights.DEFAULT\n",
    "  base_model = models.resnet50(weights=weights)\n",
    "elif architecture == \"vgg16\":\n",
    "  weights = models.VGG16_Weights.DEFAULT\n",
    "  base_model = models.vgg16(weights=weights)\n",
    "\n",
    "for layer in base_model.children():\n",
    "    print(layer)"
   ]
  },
  {
   "attachments": {},
   "cell_type": "markdown",
   "metadata": {
    "id": "acvV9u06GocO"
   },
   "source": [
    "At the end you can see fully connected layer used for classification. We can extract the values from previous layers by using the following code:"
   ]
  },
  {
   "cell_type": "code",
   "execution_count": 63,
   "metadata": {
    "id": "Gxut2qMPJS3Y"
   },
   "outputs": [
    {
     "name": "stdout",
     "output_type": "stream",
     "text": [
      "torch.Size([1, 512])\n"
     ]
    }
   ],
   "source": [
    "# Model without last fully connected layer\n",
    "model = torch.nn.Sequential(*(list(base_model.children())[:-1]), nn.AdaptiveAvgPool2d(1))\n",
    "\n",
    "img_path=\"content/cnn_img/rabbit.jpg\"\n",
    "\n",
    "img = read_image(img_path)\n",
    "preprocess = weights.transforms(antialias=True)\n",
    "batch = preprocess(img).unsqueeze(0)\n",
    "\n",
    "features = model(batch).squeeze(3).squeeze(2)\n",
    "\n",
    "print(features.shape)\n",
    "feature_layer_size=features.shape[1];"
   ]
  },
  {
   "attachments": {},
   "cell_type": "markdown",
   "metadata": {
    "id": "VjTMbaFPKfvk"
   },
   "source": [
    "These values can now be used as features and that can later be used with another classifier. Let's first extract the features for our pincer and scissors images."
   ]
  },
  {
   "cell_type": "code",
   "execution_count": 64,
   "metadata": {
    "id": "WPNycPJ4KhBQ"
   },
   "outputs": [
    {
     "name": "stdout",
     "output_type": "stream",
     "text": [
      "Creating training features...\n",
      "\t 1 / 50\n",
      "\t 2 / 50\n",
      "\t 3 / 50\n",
      "\t 4 / 50\n",
      "\t 5 / 50\n",
      "\t 6 / 50\n",
      "\t 7 / 50\n",
      "\t 8 / 50\n",
      "\t 9 / 50\n",
      "\t10 / 50\n",
      "\t11 / 50\n",
      "\t12 / 50\n",
      "\t13 / 50\n",
      "\t14 / 50\n",
      "\t15 / 50\n",
      "\t16 / 50\n",
      "\t17 / 50\n",
      "\t18 / 50\n",
      "\t19 / 50\n",
      "\t20 / 50\n",
      "\t21 / 50\n",
      "\t22 / 50\n",
      "\t23 / 50\n",
      "\t24 / 50\n",
      "\t25 / 50\n",
      "\t26 / 50\n",
      "\t27 / 50\n",
      "\t28 / 50\n",
      "\t29 / 50\n",
      "\t30 / 50\n",
      "\t31 / 50\n",
      "\t32 / 50\n",
      "\t33 / 50\n",
      "\t34 / 50\n",
      "\t35 / 50\n",
      "\t36 / 50\n",
      "\t37 / 50\n",
      "\t38 / 50\n",
      "\t39 / 50\n",
      "\t40 / 50\n",
      "\t41 / 50\n",
      "\t42 / 50\n",
      "\t43 / 50\n",
      "\t44 / 50\n",
      "\t45 / 50\n",
      "\t46 / 50\n",
      "\t47 / 50\n",
      "\t48 / 50\n",
      "\t49 / 50\n",
      "\t50 / 50\n",
      "Creating test features...\n",
      "\t 1 / 50\n",
      "\t 2 / 50\n",
      "\t 3 / 50\n",
      "\t 4 / 50\n",
      "\t 5 / 50\n",
      "\t 6 / 50\n",
      "\t 7 / 50\n",
      "\t 8 / 50\n",
      "\t 9 / 50\n",
      "\t10 / 50\n",
      "\t11 / 50\n",
      "\t12 / 50\n",
      "\t13 / 50\n",
      "\t14 / 50\n",
      "\t15 / 50\n",
      "\t16 / 50\n",
      "\t17 / 50\n",
      "\t18 / 50\n",
      "\t19 / 50\n",
      "\t20 / 50\n",
      "\t21 / 50\n",
      "\t22 / 50\n",
      "\t23 / 50\n",
      "\t24 / 50\n",
      "\t25 / 50\n",
      "\t26 / 50\n",
      "\t27 / 50\n",
      "\t28 / 50\n",
      "\t29 / 50\n",
      "\t30 / 50\n",
      "\t31 / 50\n",
      "\t32 / 50\n",
      "\t33 / 50\n",
      "\t34 / 50\n",
      "\t35 / 50\n",
      "\t36 / 50\n",
      "\t37 / 50\n",
      "\t38 / 50\n",
      "\t39 / 50\n",
      "\t40 / 50\n",
      "\t41 / 50\n",
      "\t42 / 50\n",
      "\t43 / 50\n",
      "\t44 / 50\n",
      "\t45 / 50\n",
      "\t46 / 50\n",
      "\t47 / 50\n",
      "\t48 / 50\n",
      "\t49 / 50\n",
      "\t50 / 50\n"
     ]
    }
   ],
   "source": [
    "def create_numbered_paths(home_dir, n):\n",
    "    return [home_dir+str(i)+\".jpg\" for i in range(n)]\n",
    "\n",
    "def create_paired_numbered_paths(first_home_dir, second_home_dir, n):\n",
    "    image_paths=[]\n",
    "    for p in zip(create_numbered_paths(first_home_dir, n), create_numbered_paths(second_home_dir, n)):\n",
    "        image_paths.extend(p)\n",
    "    return image_paths\n",
    "\n",
    "def create_features(paths, verbose=True):\n",
    "    n=len(paths)\n",
    "    features=np.zeros((n, feature_layer_size))\n",
    "    for i in range(n):\n",
    "        if (verbose==True):\n",
    "            print(\"\\t%2d / %2d\"%(i+1, n))\n",
    "        img = read_image(paths[i])\n",
    "        preprocess = weights.transforms(antialias=True)\n",
    "        batch = preprocess(img).unsqueeze(0)\n",
    "        features[i, :]=model(batch).squeeze(3).squeeze(2).detach().numpy()\n",
    "\n",
    "    return features\n",
    "\n",
    "pincers_dir=\"content/cnn_img/pincers/\"\n",
    "scissors_dir=\"content/cnn_img/scissors/\"\n",
    "\n",
    "individual_n=50\n",
    "\n",
    "#combining all image paths\n",
    "image_paths=create_paired_numbered_paths(pincers_dir, scissors_dir, individual_n)\n",
    "\n",
    "#marking their classes\n",
    "image_classes=[]\n",
    "for i in range(individual_n):\n",
    "    #0 stands for the pincer image and 0 stands for the scissors image\n",
    "    image_classes.extend((0, 1))\n",
    "\n",
    "#number of all images\n",
    "n=100\n",
    "#number of training images\n",
    "n_train=50\n",
    "#number of test images\n",
    "n_test=n-n_train\n",
    "\n",
    "print(\"Creating training features...\")\n",
    "#here we will store the features of training images\n",
    "x_train=create_features(image_paths[:n_train])\n",
    "#train classes\n",
    "y_train=np.array(image_classes[:n_train])\n",
    "\n",
    "print(\"Creating test features...\")\n",
    "#here we will store the features of test images\n",
    "x_test=create_features(image_paths[n_train:])\n",
    "\n",
    "#train classes\n",
    "y_test=np.array(image_classes[n_train:])"
   ]
  },
  {
   "attachments": {},
   "cell_type": "markdown",
   "metadata": {
    "id": "nQQp23pwweEf"
   },
   "source": [
    "Now that for each image we have its features, we will divide the images into a training and a test set. Then we will use a linear SVM classifier to classify them."
   ]
  },
  {
   "cell_type": "code",
   "execution_count": 65,
   "metadata": {
    "id": "R12r9KSrgt95"
   },
   "outputs": [],
   "source": [
    "from sklearn import svm\n",
    "\n",
    "def create_svm_classifier(x, y, C=1.0, kernel='linear'):\n",
    "    #we will use linear SVM\n",
    "    classifier=svm.SVC(kernel=kernel, C=C);\n",
    "    classifier.fit(x, y)\n",
    "    return classifier\n",
    "\n",
    "def calculate_accuracy(classifier, x, y):\n",
    "    predicted=classifier.predict(x)\n",
    "    return np.sum(y==predicted)/y.size"
   ]
  },
  {
   "cell_type": "code",
   "execution_count": 66,
   "metadata": {
    "id": "ADOM91TWwdmS"
   },
   "outputs": [
    {
     "name": "stdout",
     "output_type": "stream",
     "text": [
      "Accuracy: 100.00%\n"
     ]
    }
   ],
   "source": [
    "#training the model\n",
    "classifier=create_svm_classifier(x_train, y_train, 1.0, \"linear\")\n",
    "\n",
    "#checking the model's accuracy\n",
    "print(\"Accuracy: %.2lf%%\"%(100*calculate_accuracy(classifier, x_test, y_test)))"
   ]
  },
  {
   "attachments": {},
   "cell_type": "markdown",
   "metadata": {},
   "source": [
    "**Tasks**\n",
    "\n",
    "1. Is there any significant gain if more complex SVM models are used?\n",
    "2. What happens if we extract features using different backbone, e.g. vgg16?"
   ]
  },
  {
   "attachments": {},
   "cell_type": "markdown",
   "metadata": {},
   "source": [
    "1.  Linear = 96.00%\n",
    "\n",
    "    Rbf = 98.00%\n",
    "\n",
    "    Poly = 96.00%\n",
    "\n",
    "    Sigmoid = 50.00%\n",
    "\n",
    "Only RBF increases the accuracy.\n",
    "\n",
    "2. (Using linear kernel)\n",
    "\n",
    "    ResNet34 = 96.00%\n",
    "\n",
    "    ResNet50 = 96.00%\n",
    "    \n",
    "    Vgg16 = 100.00%\n",
    "\n",
    "Using Vgg16 causes 100% accuracy."
   ]
  },
  {
   "attachments": {},
   "cell_type": "markdown",
   "metadata": {
    "id": "nSMhoT6swkeZ"
   },
   "source": [
    "### 8.2.1 Creating your own classifier - healthy vs. unhealthy food\n",
    "The previous example was relatively simple because all images were of same size and each of them had a white background, which allowed the extractor to concentrate only on the features of the actual objects. In this example we will use a slightly more complicated case - namely, will will tell images with healthy food apart from the ones with unhealthy food. FIrst let's repeat the same process as we did in the previous example and create the features:"
   ]
  },
  {
   "cell_type": "code",
   "execution_count": 67,
   "metadata": {
    "id": "JI75TDrVxNrR"
   },
   "outputs": [
    {
     "name": "stdout",
     "output_type": "stream",
     "text": [
      "Creating training features...\n",
      "\t 1 / 100\n",
      "\t 2 / 100\n",
      "\t 3 / 100\n",
      "\t 4 / 100\n",
      "\t 5 / 100\n",
      "\t 6 / 100\n",
      "\t 7 / 100\n",
      "\t 8 / 100\n",
      "\t 9 / 100\n",
      "\t10 / 100\n",
      "\t11 / 100\n",
      "\t12 / 100\n",
      "\t13 / 100\n",
      "\t14 / 100\n",
      "\t15 / 100\n",
      "\t16 / 100\n",
      "\t17 / 100\n",
      "\t18 / 100\n",
      "\t19 / 100\n",
      "\t20 / 100\n",
      "\t21 / 100\n",
      "\t22 / 100\n",
      "\t23 / 100\n",
      "\t24 / 100\n",
      "\t25 / 100\n",
      "\t26 / 100\n",
      "\t27 / 100\n",
      "\t28 / 100\n",
      "\t29 / 100\n",
      "\t30 / 100\n",
      "\t31 / 100\n",
      "\t32 / 100\n",
      "\t33 / 100\n",
      "\t34 / 100\n",
      "\t35 / 100\n",
      "\t36 / 100\n",
      "\t37 / 100\n",
      "\t38 / 100\n",
      "\t39 / 100\n",
      "\t40 / 100\n",
      "\t41 / 100\n",
      "\t42 / 100\n",
      "\t43 / 100\n",
      "\t44 / 100\n",
      "\t45 / 100\n",
      "\t46 / 100\n",
      "\t47 / 100\n",
      "\t48 / 100\n",
      "\t49 / 100\n",
      "\t50 / 100\n",
      "\t51 / 100\n",
      "\t52 / 100\n",
      "\t53 / 100\n",
      "\t54 / 100\n",
      "\t55 / 100\n",
      "\t56 / 100\n",
      "\t57 / 100\n",
      "\t58 / 100\n",
      "\t59 / 100\n",
      "\t60 / 100\n",
      "\t61 / 100\n",
      "\t62 / 100\n",
      "\t63 / 100\n",
      "\t64 / 100\n",
      "\t65 / 100\n",
      "\t66 / 100\n",
      "\t67 / 100\n",
      "\t68 / 100\n",
      "\t69 / 100\n",
      "\t70 / 100\n",
      "\t71 / 100\n",
      "\t72 / 100\n",
      "\t73 / 100\n",
      "\t74 / 100\n",
      "\t75 / 100\n",
      "\t76 / 100\n",
      "\t77 / 100\n",
      "\t78 / 100\n",
      "\t79 / 100\n",
      "\t80 / 100\n",
      "\t81 / 100\n",
      "\t82 / 100\n",
      "\t83 / 100\n",
      "\t84 / 100\n",
      "\t85 / 100\n",
      "\t86 / 100\n",
      "\t87 / 100\n",
      "\t88 / 100\n",
      "\t89 / 100\n",
      "\t90 / 100\n",
      "\t91 / 100\n",
      "\t92 / 100\n",
      "\t93 / 100\n",
      "\t94 / 100\n",
      "\t95 / 100\n",
      "\t96 / 100\n",
      "\t97 / 100\n",
      "\t98 / 100\n",
      "\t99 / 100\n",
      "\t100 / 100\n",
      "Creating test features...\n",
      "\t 1 / 100\n",
      "\t 2 / 100\n",
      "\t 3 / 100\n",
      "\t 4 / 100\n",
      "\t 5 / 100\n",
      "\t 6 / 100\n",
      "\t 7 / 100\n",
      "\t 8 / 100\n",
      "\t 9 / 100\n",
      "\t10 / 100\n",
      "\t11 / 100\n",
      "\t12 / 100\n",
      "\t13 / 100\n",
      "\t14 / 100\n",
      "\t15 / 100\n",
      "\t16 / 100\n",
      "\t17 / 100\n",
      "\t18 / 100\n",
      "\t19 / 100\n",
      "\t20 / 100\n",
      "\t21 / 100\n",
      "\t22 / 100\n",
      "\t23 / 100\n",
      "\t24 / 100\n",
      "\t25 / 100\n",
      "\t26 / 100\n",
      "\t27 / 100\n",
      "\t28 / 100\n",
      "\t29 / 100\n",
      "\t30 / 100\n",
      "\t31 / 100\n",
      "\t32 / 100\n",
      "\t33 / 100\n",
      "\t34 / 100\n",
      "\t35 / 100\n",
      "\t36 / 100\n",
      "\t37 / 100\n",
      "\t38 / 100\n",
      "\t39 / 100\n",
      "\t40 / 100\n",
      "\t41 / 100\n",
      "\t42 / 100\n",
      "\t43 / 100\n",
      "\t44 / 100\n",
      "\t45 / 100\n",
      "\t46 / 100\n",
      "\t47 / 100\n",
      "\t48 / 100\n",
      "\t49 / 100\n",
      "\t50 / 100\n",
      "\t51 / 100\n",
      "\t52 / 100\n",
      "\t53 / 100\n",
      "\t54 / 100\n",
      "\t55 / 100\n",
      "\t56 / 100\n",
      "\t57 / 100\n",
      "\t58 / 100\n",
      "\t59 / 100\n",
      "\t60 / 100\n",
      "\t61 / 100\n",
      "\t62 / 100\n",
      "\t63 / 100\n",
      "\t64 / 100\n",
      "\t65 / 100\n",
      "\t66 / 100\n",
      "\t67 / 100\n",
      "\t68 / 100\n",
      "\t69 / 100\n",
      "\t70 / 100\n",
      "\t71 / 100\n",
      "\t72 / 100\n",
      "\t73 / 100\n",
      "\t74 / 100\n",
      "\t75 / 100\n",
      "\t76 / 100\n",
      "\t77 / 100\n",
      "\t78 / 100\n",
      "\t79 / 100\n",
      "\t80 / 100\n",
      "\t81 / 100\n",
      "\t82 / 100\n",
      "\t83 / 100\n",
      "\t84 / 100\n",
      "\t85 / 100\n",
      "\t86 / 100\n",
      "\t87 / 100\n",
      "\t88 / 100\n",
      "\t89 / 100\n",
      "\t90 / 100\n",
      "\t91 / 100\n",
      "\t92 / 100\n",
      "\t93 / 100\n",
      "\t94 / 100\n",
      "\t95 / 100\n",
      "\t96 / 100\n",
      "\t97 / 100\n",
      "\t98 / 100\n",
      "\t99 / 100\n",
      "\t100 / 100\n"
     ]
    }
   ],
   "source": [
    "healthy_dir=\"content/cnn_img/healthy/\"\n",
    "unhealthy_dir=\"content/cnn_img/unhealthy/\"\n",
    "\n",
    "individual_n=100\n",
    "\n",
    "#combining all image paths\n",
    "image_paths=create_paired_numbered_paths(healthy_dir, unhealthy_dir, individual_n)\n",
    "\n",
    "#marking their classes\n",
    "image_classes=[]\n",
    "for i in range(individual_n):\n",
    "    #0 stands for the HEALTHY image and 0 stands for the UNHEALTHY image\n",
    "    image_classes.extend((0, 1))\n",
    "\n",
    "#number of all images\n",
    "n=200\n",
    "#number of training images\n",
    "n_train=100\n",
    "#number of test images\n",
    "n_test=n-n_train\n",
    "\n",
    "print(\"Creating training features...\")\n",
    "#here we will store the features of training images\n",
    "x_train=create_features(image_paths[:n_train])\n",
    "#train classes\n",
    "y_train=np.array(image_classes[:n_train])\n",
    "\n",
    "print(\"Creating test features...\")\n",
    "#here we will store the features of test images\n",
    "x_test=create_features(image_paths[n_train:])\n",
    "#train classes\n",
    "y_test=np.array(image_classes[n_train:])"
   ]
  },
  {
   "attachments": {},
   "cell_type": "markdown",
   "metadata": {
    "id": "pfezje2qxQns"
   },
   "source": [
    "Now let's train a model and test its accuracy:"
   ]
  },
  {
   "cell_type": "code",
   "execution_count": 68,
   "metadata": {
    "id": "TXUOBrkjxNzU"
   },
   "outputs": [
    {
     "name": "stdout",
     "output_type": "stream",
     "text": [
      "Accuracy: 92.00%\n"
     ]
    }
   ],
   "source": [
    "classifier=create_svm_classifier(x_train, y_train, 1.0, \"linear\")\n",
    "print(\"Accuracy: %.2lf%%\"%(100*calculate_accuracy(classifier, x_test, y_test)))"
   ]
  },
  {
   "attachments": {},
   "cell_type": "markdown",
   "metadata": {
    "id": "U-Zt5OzoxWqj"
   },
   "source": [
    "**Tasks**\n",
    "1. Try the whole food classification with another network as a feature extractor and compare their results.\n",
    "2. What kind of test images are problematic?"
   ]
  },
  {
   "attachments": {},
   "cell_type": "markdown",
   "metadata": {},
   "source": [
    "1. Using ResNet34 we get an accuracy of 65%, using ResNet50 we get an accuracy of 61% and using Vgg16 we get an accuracy of 92%.\n",
    "2. Images that contain many objects, are low resolution and images that appear to be of of a different class, such as a \"healthy burger\" (image 42)."
   ]
  }
 ],
 "metadata": {
  "accelerator": "GPU",
  "colab": {
   "gpuType": "T4",
   "provenance": []
  },
  "kernelspec": {
   "display_name": "Python 3 (ipykernel)",
   "language": "python",
   "name": "python3"
  },
  "language_info": {
   "codemirror_mode": {
    "name": "ipython",
    "version": 3
   },
   "file_extension": ".py",
   "mimetype": "text/x-python",
   "name": "python",
   "nbconvert_exporter": "python",
   "pygments_lexer": "ipython3",
   "version": "3.11.3"
  }
 },
 "nbformat": 4,
 "nbformat_minor": 1
}
