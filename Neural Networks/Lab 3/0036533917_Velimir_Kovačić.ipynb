{
 "cells": [
  {
   "attachments": {},
   "cell_type": "markdown",
   "id": "ef67b941-48cd-48d2-8d5c-cf13adad0e06",
   "metadata": {
    "slideshow": {
     "slide_type": ""
    },
    "tags": []
   },
   "source": [
    "# Laboratory exercise 3\n",
    "\n",
    "Required packages:\n",
    "* numpy\n",
    "* torch\n",
    "* torchvision\n",
    "* scikit-learn\n",
    "\n",
    "**Tasks that should be solved are given in the following sections:**\n",
    "* Section 5.3 The XOR problem\n",
    "* Section 5.4 The MNIST dataset\n",
    "* Section 6.1 Kernels\n",
    "* Section 6.2 Wine dataset\n",
    "* Section 6.3 Speed\n",
    "\n",
    "# Exercise 5: Multilayer perceptron\n",
    "\n",
    "The focus of this exercise will be on multilayer perceptron and to do that in a simpler way, an introduction to PyTorch is given first.\n",
    "\n",
    "## 5.1 Introduction to PyTorch\n",
    "\n",
    "We'll introduce Pytorch by quoting the [official documentation: ](https://pytorch.org/docs/stable/index.html)\n",
    "\n",
    "> \"PyTorch is an optimized tensor library for deep learning using GPUs and CPUs.\"\n",
    "\n",
    "PyTorch is [open source](https://github.com/pytorch/pytorch/tree/main#license) and [one of the most popular](https://www.kaggle.com/code/paultimothymooney/kaggle-survey-2022-all-results?scriptVersionId=107352619&cellId=45) machine learning libraries. It is simple to use and is well integrated into Python. We highly recommend that you read the [official quickstart tutorial](https://pytorch.org/tutorials/beginner/basics/quickstart_tutorial.html) to further familiarize yourself with PyTorch. For any additional clarification, we suggest that you examine the [official documentation](https://pytorch.org/docs/stable/index.html). This exercise is heavily based on the mentioned documents.\n",
    "\n",
    "We'll start by importing PyTorch and [NumPy](https://numpy.org/):"
   ]
  },
  {
   "cell_type": "code",
   "execution_count": 137,
   "id": "156000e0-2c28-4191-85dd-a7bcd0c06980",
   "metadata": {
    "slideshow": {
     "slide_type": ""
    },
    "tags": []
   },
   "outputs": [],
   "source": [
    "import torch\n",
    "import numpy as np"
   ]
  },
  {
   "attachments": {},
   "cell_type": "markdown",
   "id": "578ce6b4-0759-4ab9-b078-3bfb00ee555d",
   "metadata": {
    "slideshow": {
     "slide_type": ""
    },
    "tags": []
   },
   "source": [
    "### 5.1.1 PyTorch basics\n",
    "The fundamental elements of PyTorch are tensors. They are used to encode the input data, output data and the parameters of the model. Tensors are n-dimensional arrays of a given type. They are quite similar to NumPy ndarrays and we can easily integrate Numpy ndarrays into PyTorch. We can define tensors in multiple ways - we'll start by defining tensors directly from data:"
   ]
  },
  {
   "cell_type": "code",
   "execution_count": 138,
   "id": "9772a52b-eddf-40bd-a725-b5f040c5452b",
   "metadata": {
    "slideshow": {
     "slide_type": ""
    },
    "tags": []
   },
   "outputs": [],
   "source": [
    "data = [[1, 2],[3, 4]]\n",
    "x_data = torch.tensor(data)"
   ]
  },
  {
   "attachments": {},
   "cell_type": "markdown",
   "id": "a68c2e39-a321-4f84-a8e7-504260fa2651",
   "metadata": {
    "slideshow": {
     "slide_type": ""
    },
    "tags": []
   },
   "source": [
    "We can list the tensors attributes with the following commands:"
   ]
  },
  {
   "cell_type": "code",
   "execution_count": 139,
   "id": "281ee2d8-bac1-4c22-8f53-51ae1158649c",
   "metadata": {
    "slideshow": {
     "slide_type": ""
    },
    "tags": []
   },
   "outputs": [
    {
     "name": "stdout",
     "output_type": "stream",
     "text": [
      "Tensor shape    : torch.Size([2, 2])\n",
      "Tensor datatype : torch.int64\n",
      "Tensor device   : cpu\n"
     ]
    }
   ],
   "source": [
    "print(f\"Tensor shape    : {x_data.shape}\")\n",
    "print(f\"Tensor datatype : {x_data.dtype}\")\n",
    "print(f\"Tensor device   : {x_data.device}\")"
   ]
  },
  {
   "attachments": {},
   "cell_type": "markdown",
   "id": "0197365f-130d-4fda-a5bd-19102df1900d",
   "metadata": {
    "slideshow": {
     "slide_type": ""
    },
    "tags": []
   },
   "source": [
    "We can also create tensors using functions:"
   ]
  },
  {
   "cell_type": "code",
   "execution_count": 140,
   "id": "af81a059-0a9b-4fdd-8511-f164b38ef8c3",
   "metadata": {
    "slideshow": {
     "slide_type": ""
    },
    "tags": []
   },
   "outputs": [],
   "source": [
    "shape = (2,3,)\n",
    "ones_tensor = torch.ones(shape)\n",
    "zeros_tensor = torch.zeros(shape)\n",
    "rand_tensor = torch.rand(shape) # samples from the uniform distribution on [0, 1)\n",
    "norm_tensor = torch.normal(0.0, 1.0, shape) # sample from the normal distribution with μ = 0, σ = 1"
   ]
  },
  {
   "attachments": {},
   "cell_type": "markdown",
   "id": "651e35e1-8815-4381-b48d-b27901e51cd8",
   "metadata": {
    "slideshow": {
     "slide_type": ""
    },
    "tags": []
   },
   "source": [
    "We can also define tensors from a NumPy array:"
   ]
  },
  {
   "cell_type": "code",
   "execution_count": 141,
   "id": "eead4b08-076f-42bf-ba1b-c8f81c0da5e1",
   "metadata": {
    "slideshow": {
     "slide_type": ""
    },
    "tags": []
   },
   "outputs": [],
   "source": [
    "np_array = np.array(data)\n",
    "x_np = torch.from_numpy(np_array)"
   ]
  },
  {
   "attachments": {},
   "cell_type": "markdown",
   "id": "67da95af-22a9-4c8e-88a2-fe63218bd881",
   "metadata": {
    "slideshow": {
     "slide_type": ""
    },
    "tags": []
   },
   "source": [
    "And we can also define tensors using other tensors. The newly defined tensor will have the same properties as the argument tensor, unless we tell it to override some properties."
   ]
  },
  {
   "cell_type": "code",
   "execution_count": 142,
   "id": "e9d15088-9bc2-4d3f-94bb-6e2b77c7750c",
   "metadata": {
    "slideshow": {
     "slide_type": ""
    },
    "tags": []
   },
   "outputs": [
    {
     "name": "stdout",
     "output_type": "stream",
     "text": [
      "--- original tensor ----------------------------- new tensor ------------------\n",
      "x_data shape    : torch.Size([2, 2]) \t | x_ones shape    : torch.Size([2, 2])\n",
      "x_data datatype : torch.int64 \t\t | x_ones datatype : torch.int64\n",
      "x_data device   : cpu \t\t\t | x_ones device   : cpu\n",
      "-------------------------------------------------------------------------------\n",
      "x_data shape    : torch.Size([2, 2]) \t | x_rand shape    : torch.Size([2, 2])\n",
      "x_data datatype : torch.int64 \t\t | x_rand datatype : torch.float32\n",
      "x_data device   : cpu \t\t\t | x_rand device   : cpu\n"
     ]
    }
   ],
   "source": [
    "print('--- original tensor ----------------------------- new tensor ------------------')\n",
    "x_ones = torch.ones_like(x_data) # keeping the same properties\n",
    "print(f\"x_data shape    : {x_data.shape} \\t | x_ones shape    : {x_ones.shape}\")\n",
    "print(f\"x_data datatype : {x_data.dtype} \\t\\t | x_ones datatype : {x_ones.dtype}\")\n",
    "print(f\"x_data device   : {x_data.device} \\t\\t\\t | x_ones device   : {x_ones.device}\")\n",
    "\n",
    "print('-------------------------------------------------------------------------------')\n",
    "\n",
    "x_rand = torch.rand_like(x_data, dtype=torch.float) # overriding the datatype property\n",
    "print(f\"x_data shape    : {x_data.shape} \\t | x_rand shape    : {x_rand.shape}\")\n",
    "print(f\"x_data datatype : {x_data.dtype} \\t\\t | x_rand datatype : {x_rand.dtype}\")\n",
    "print(f\"x_data device   : {x_data.device} \\t\\t\\t | x_rand device   : {x_rand.device}\")"
   ]
  },
  {
   "attachments": {},
   "cell_type": "markdown",
   "id": "71ae1124-49f6-4721-a513-055748c25d8b",
   "metadata": {},
   "source": [
    "### 5.1.2 Hardware acceleration\n",
    "You might wonder what does the `device` property describe? PyTorch follows a [simple and explicit design philosophy](https://pytorch.org/docs/stable/community/design.html#principle-2-simple-over-easy) and this is reflected in the way we allocate our tensors to actual hardware. By default, all tensors are allocated on the CPU and we have to manually move them to the GPU. [The official quickstart tutorial](https://pytorch.org/tutorials/beginner/basics/quickstart_tutorial.html#creating-models) shows us a nice and effective method of doing this:"
   ]
  },
  {
   "cell_type": "code",
   "execution_count": 143,
   "id": "76271498-9e24-459f-939a-73733ad76e04",
   "metadata": {},
   "outputs": [
    {
     "name": "stdout",
     "output_type": "stream",
     "text": [
      "True\n",
      "x_data shape    : torch.Size([2, 2])\n",
      "x_data datatype : torch.int64\n",
      "x_data device   : cuda:0\n"
     ]
    }
   ],
   "source": [
    "# check the device availability\n",
    "device = (\n",
    "    \"cuda\"\n",
    "    if torch.cuda.is_available()\n",
    "    else \"mps\"\n",
    "    if torch.backends.mps.is_available()\n",
    "    else \"cpu\"\n",
    ")\n",
    "\n",
    "print(torch.cuda.is_available())\n",
    "\n",
    "# move the tensor to the device\n",
    "x_data = x_data.to(device)\n",
    "print(f\"x_data shape    : {x_data.shape}\")\n",
    "print(f\"x_data datatype : {x_data.dtype}\")\n",
    "print(f\"x_data device   : {x_data.device}\")"
   ]
  },
  {
   "attachments": {},
   "cell_type": "markdown",
   "id": "a2ed2aad-fbf9-47c2-93df-76d250e39bf1",
   "metadata": {},
   "source": [
    "Obviously you need to have the appropriate hardware and environment configuration in order to allow PyTorch to utilize your hardware. Depending on your environment, you will need to:\n",
    "* Local environment → install the appropriate device drivers\n",
    "  * depends on your operating system and the device you're using\n",
    "  * you will also need to install the PyTorch version that supports your hardware\n",
    "* Google Collab → enable hardware acceleration\n",
    "  * select `Runtime > Change runtime type`, then choose the appropriate hardware (ex. `T4 GPU`)"
   ]
  },
  {
   "attachments": {},
   "cell_type": "markdown",
   "id": "d38a9f37-c1ee-4734-8ea7-b4bac2824100",
   "metadata": {},
   "source": [
    "### 5.1.3 Tensor operations\n",
    "PyTorch provides [a large number of tensor operations](https://pytorch.org/docs/stable/torch.html) that can be hardware accelerated. If you're familiar with NumPy, using these operations will feel quite natural. First let's try some arithmetic operations:"
   ]
  },
  {
   "cell_type": "code",
   "execution_count": 144,
   "id": "c3607d2e-22b6-47d8-ba70-e8139d6e13a0",
   "metadata": {},
   "outputs": [
    {
     "name": "stdout",
     "output_type": "stream",
     "text": [
      "starting tensor...\n",
      "tensor([[0.6939, 0.5418, 0.5235],\n",
      "        [0.0910, 0.0118, 0.5084]])\n",
      "added tensor...\n",
      "tensor([[1.3879, 1.0837, 1.0470],\n",
      "        [0.1820, 0.0237, 1.0169]])\n",
      "multiplied tensor...\n",
      "tensor([[6.9393, 5.4184, 5.2350],\n",
      "        [0.9099, 0.1184, 5.0844]])\n",
      "transposed tensor...\n",
      "tensor([[0.6939, 0.0910],\n",
      "        [0.5418, 0.0118],\n",
      "        [0.5235, 0.5084]])\n",
      "element-wise product tensor...\n",
      "tensor([[4.8153e-01, 2.9359e-01, 2.7405e-01],\n",
      "        [8.2783e-03, 1.4019e-04, 2.5852e-01]])\n",
      "matrix product tensor...\n",
      "tensor([[1.0492, 0.3357],\n",
      "        [0.3357, 0.2669]])\n"
     ]
    }
   ],
   "source": [
    "tensor = torch.rand_like(rand_tensor)\n",
    "\n",
    "add_tensor = tensor + tensor            # equivalent to torch.add(tensor, tensor)\n",
    "mul_tensor = tensor * 10                # equivalent to torch.mul(tensor, 10)\n",
    "\n",
    "trans_tensor = tensor.T                 # equivalent to torch.t(tensor)\n",
    "element_wise_product = tensor * tensor  # equivalent to torch.mul(tensor, tensor)\n",
    "matrix_product = tensor @ tensor.T      # equivalent to torch.matmul(tensor, tensor.T)\n",
    "\n",
    "print(\"starting tensor...\", tensor, sep='\\n')\n",
    "print(\"added tensor...\", add_tensor, sep='\\n')\n",
    "print(\"multiplied tensor...\", mul_tensor, sep='\\n')\n",
    "print(\"transposed tensor...\", trans_tensor, sep='\\n')\n",
    "print(\"element-wise product tensor...\", element_wise_product, sep='\\n')\n",
    "print(\"matrix product tensor...\", matrix_product, sep='\\n')"
   ]
  },
  {
   "attachments": {},
   "cell_type": "markdown",
   "id": "0ed8d0cd-f534-40b0-89e3-97d77c505946",
   "metadata": {},
   "source": [
    "PyTorch tensors can be indexed and sliced in a [similar way to NumPy ndarrays](https://numpy.org/devdocs/user/quickstart.html#indexing-slicing-and-iterating):"
   ]
  },
  {
   "cell_type": "code",
   "execution_count": 145,
   "id": "93475f33-f290-4f48-9936-62f7ad59bca0",
   "metadata": {},
   "outputs": [
    {
     "name": "stdout",
     "output_type": "stream",
     "text": [
      "starting tensor...\n",
      "tensor([[0.9739, 0.7293, 0.7269, 0.9183, 0.5214],\n",
      "        [0.7740, 0.6161, 0.8813, 0.7398, 0.3018],\n",
      "        [0.2261, 0.4820, 0.6337, 0.0216, 0.5051],\n",
      "        [0.1114, 0.2252, 0.8387, 0.7481, 0.3529],\n",
      "        [0.3902, 0.3417, 0.4140, 0.3085, 0.0317]])\n",
      "second_row ...\n",
      "tensor([0.7740, 0.6161, 0.8813, 0.7398, 0.3018])\n",
      "third collumn ...\n",
      "tensor([0.7269, 0.8813, 0.6337, 0.8387, 0.4140])\n",
      "second to last collumng...\n",
      "tensor([0.9183, 0.7398, 0.0216, 0.7481, 0.3085])\n",
      "assignment tensor...\n",
      "tensor([[ 1.,  1.,  1.,  1.,  1.],\n",
      "        [ 1., 10., 10.,  1.,  1.],\n",
      "        [ 1., 10., 10.,  1.,  1.],\n",
      "        [ 1.,  1.,  1.,  1.,  1.],\n",
      "        [ 1.,  1.,  1.,  1.,  1.]])\n"
     ]
    }
   ],
   "source": [
    "tensor = torch.rand(5, 5)\n",
    "second_row = tensor[1]\n",
    "third_collumn = tensor[:, 2]\n",
    "second_to_last_collumn = tensor[..., -2]\n",
    "assign_tesnor = torch.ones_like(tensor)\n",
    "assign_tesnor[1:3, 1:3] = 10 # multiple element assignment\n",
    "\n",
    "print(\"starting tensor...\", tensor, sep='\\n')\n",
    "print(\"second_row ...\", second_row, sep='\\n')\n",
    "print(\"third collumn ...\", third_collumn, sep='\\n')\n",
    "print(\"second to last collumng...\", second_to_last_collumn, sep='\\n')\n",
    "print(\"assignment tensor...\", assign_tesnor, sep='\\n')"
   ]
  },
  {
   "attachments": {},
   "cell_type": "markdown",
   "id": "2bbe981b-8fb4-4dad-8a5d-26090c236df5",
   "metadata": {},
   "source": [
    "Operations with the `_` suffix denote the in-place operations. They will store the resulting tensor into the argument tensor."
   ]
  },
  {
   "cell_type": "code",
   "execution_count": 146,
   "id": "f4e4d1a7-940a-4d1c-b89f-893ec58c0a50",
   "metadata": {},
   "outputs": [
    {
     "data": {
      "text/plain": [
       "tensor([[ 10.,  10.,  10.,  10.,  10.],\n",
       "        [ 10., 100., 100.,  10.,  10.],\n",
       "        [ 10., 100., 100.,  10.,  10.],\n",
       "        [ 10.,  10.,  10.,  10.,  10.],\n",
       "        [ 10.,  10.,  10.,  10.,  10.]])"
      ]
     },
     "execution_count": 146,
     "metadata": {},
     "output_type": "execute_result"
    }
   ],
   "source": [
    "assign_tesnor.mul_(10)"
   ]
  },
  {
   "attachments": {},
   "cell_type": "markdown",
   "id": "2960bc31-691f-4bd1-b325-7e0ae7579913",
   "metadata": {},
   "source": [
    "### 5.1.4 Datasets and dataloaders\n",
    "Even though we can store our data directly into tensors and work directly with them, a preferred method for working with data is to use the `Dataset` and `Dataloader` objects. This will also allow us to decouple our data loading code from the model training code. In order to load our data, we have to create a new class that extends the `Dataset` class. We also need to implement the following methods:\n",
    "\n",
    "* `__init__` - initializes the `Dataset` object\n",
    "* `__len__` - returns the number of samples in our object\n",
    "* `__getitem__` - returns the sample for a given index *(remember to return the (input, output) pair)*\n",
    "\n",
    "Let's generate a synthetic dataset that we'll later use for our simple linear regression model. Our dataset will have 100 samples. The input will be a 3-dimensional tensor, and the output will be a 1-dimensional tensor. The inputs will be normally distributed ($\\mu = 0$, $\\sigma = 1$) and our model will be defined with the following expression : $y=\\mathbf{w}^{T}\\mathbf{x}+\\mathbf{b}$.\n",
    "\n",
    "We'll start by defining our custom dataset class:"
   ]
  },
  {
   "cell_type": "code",
   "execution_count": 147,
   "id": "5748125b-7011-4f42-adc3-9abdf062f55d",
   "metadata": {},
   "outputs": [],
   "source": [
    "from torch.utils.data import Dataset\n",
    "\n",
    "class CustomDatasetAlpha(Dataset):                                    # extending the Dataset class ...\n",
    "    def __init__(self, number_of_samples, weights, bias):             # our dataset is defined by:\n",
    "        self.number_of_samples = number_of_samples                    #  - the number of samples\n",
    "        self.weights = weights                                        #  - the weights vector\n",
    "        self.bias = bias                                              #  - the bias vector\n",
    "        \n",
    "        self.x_input = torch.normal(0.0, 1.0, (number_of_samples, 3)).to(device) # sampling our inputs\n",
    "\n",
    "    def __len__(self):\n",
    "        return self.number_of_samples\n",
    "\n",
    "    def __getitem__(self, index):\n",
    "        # we're assuming that our input and weights are\n",
    "        # represented as row vectors. Therefore, we'll \n",
    "        # calculate the dot product as such:\n",
    "        input = self.x_input[index]\n",
    "        output = self.x_input[index] @ torch.t(self.weights) + self.bias     # the model expression\n",
    "        return input, output"
   ]
  },
  {
   "attachments": {},
   "cell_type": "markdown",
   "id": "07e973ac-e949-464d-bcf9-5422f87b7b03",
   "metadata": {},
   "source": [
    "After we've defined our dataset, we can instantiate it with the following:"
   ]
  },
  {
   "cell_type": "code",
   "execution_count": 148,
   "id": "459085ab-8a8f-4f05-bc37-8bfa38c687d0",
   "metadata": {},
   "outputs": [],
   "source": [
    "weights = torch.tensor([9.0, 8.0, 7.0]).to(device)\n",
    "bias = torch.tensor([5.0]).to(device)\n",
    "dataset = CustomDatasetAlpha(100, weights, bias)"
   ]
  },
  {
   "attachments": {},
   "cell_type": "markdown",
   "id": "7a47a39e-831e-4880-b366-3c7b104f0c38",
   "metadata": {},
   "source": [
    "We can access our data by simply indexing our dataset:"
   ]
  },
  {
   "cell_type": "code",
   "execution_count": 149,
   "id": "60f73f0d-9865-4e1c-ae1a-da8747f11c76",
   "metadata": {},
   "outputs": [
    {
     "name": "stdout",
     "output_type": "stream",
     "text": [
      "6th samples of the dataset\n",
      "(tensor([-0.2105,  1.6144, -0.4911], device='cuda:0'), tensor([12.5824], device='cuda:0'))\n",
      "last 5 samples of the dataset\n",
      "(tensor([[ 1.2095, -0.8511,  0.0651],\n",
      "        [ 2.2593, -0.4316, -1.0159],\n",
      "        [-0.0742,  1.8707, -0.3576],\n",
      "        [-0.1247,  0.7454, -0.2853],\n",
      "        [ 0.6864,  0.9120,  0.1261]], device='cuda:0'), tensor([ 9.5322, 14.7695, 16.7951,  7.8438, 19.3564], device='cuda:0'))\n"
     ]
    }
   ],
   "source": [
    "print(\"6th samples of the dataset\")\n",
    "print(dataset[5])\n",
    "\n",
    "print(\"last 5 samples of the dataset\")\n",
    "print(dataset[-6:-1])"
   ]
  },
  {
   "attachments": {},
   "cell_type": "markdown",
   "id": "b62eb917-46c2-4167-9b66-1ab65de8f2ed",
   "metadata": {},
   "source": [
    "With our `Dataset` object we can access our samples directly. We could implement additional methods for obtaining multiple samples, data shuffling,... but instead we can use the useful `DataLoader` class that will abstract this complexity for us. This can be done with the following:"
   ]
  },
  {
   "cell_type": "code",
   "execution_count": 150,
   "id": "77078ea1-3d05-4f1c-b991-16270bb71127",
   "metadata": {},
   "outputs": [
    {
     "name": "stdout",
     "output_type": "stream",
     "text": [
      "current batch inputs :\n",
      "tensor([[-1.7865,  0.2888, -1.6672],\n",
      "        [-0.7256,  0.3298,  0.5381],\n",
      "        [ 0.8430,  0.4791,  0.5775],\n",
      "        [ 0.4109, -0.4147,  0.7114],\n",
      "        [-0.9038, -0.6482, -2.0394],\n",
      "        [-0.7693,  0.3697,  0.5245],\n",
      "        [-0.3574,  0.3511,  0.2414],\n",
      "        [-0.8220,  0.0673, -0.5299]], device='cuda:0')\n",
      "current batch outputs :\n",
      "tensor([[-20.4383],\n",
      "        [  4.8747],\n",
      "        [ 20.4630],\n",
      "        [ 10.3608],\n",
      "        [-22.5958],\n",
      "        [  4.7051],\n",
      "        [  6.2818],\n",
      "        [ -5.5688]], device='cuda:0')\n"
     ]
    }
   ],
   "source": [
    "from torch.utils.data import DataLoader\n",
    "\n",
    "dataloader = DataLoader(dataset, batch_size=8, shuffle=True)\n",
    "\n",
    "# iterating trough the DataLoader\n",
    "for batch_x, batch_y in dataloader:\n",
    "    print(\"current batch inputs :\", batch_x, sep='\\n')\n",
    "    print(\"current batch outputs :\", batch_y, sep='\\n')\n",
    "    \n",
    "    # we'll break after the first iteration in order to\n",
    "    # minimize the printed output\n",
    "    break"
   ]
  },
  {
   "attachments": {},
   "cell_type": "markdown",
   "id": "2b9f8bba-b9df-4fe6-96d7-f2b42d2f3db5",
   "metadata": {},
   "source": [
    "If you re-run the previous cell you should see different samples in our batch, since we've set the `shuffle` flag to be true. Hopefully this demonstrates the usefulness of the `DataLoader` class. Feel free to explore [other flags](https://pytorch.org/docs/stable/data.html#torch.utils.data.DataLoader) and other [data loading utilities](https://pytorch.org/docs/stable/data.html#module-torch.utils.data).\n",
    "\n",
    "When it comes to loading images, PyTorch provides an additional library named `torchvision` that contains a lot helpful functions for working with images. It also contains a lot of popular datasets and model architectures that are commonly used in computer vision. If you're interested in loading your own images, check out the official [Datasets & DataLoaders tutorial](https://pytorch.org/tutorials/beginner/basics/data_tutorial.html#creating-a-custom-dataset-for-your-files). We'll use `torchvision` later on in this exercise in order to load [the MNIST dataset](http://yann.lecun.com/exdb/mnist/), a quite popular image dataset for testing our machine learning models.\n"
   ]
  },
  {
   "attachments": {},
   "cell_type": "markdown",
   "id": "cfa63ba5-522a-4b88-9177-33ad049c09c3",
   "metadata": {},
   "source": [
    "### 5.1.5 Models\n",
    "Now we'll discuss how to create our models using PyTorch. All models in PyTorch extend the `nn.Module` class, similarly how datasets extend the `Dataset` class. During the initialization of the model, we'll define our network's architecture. We'll also define the `forward` method that will calculate the forward pass of our network. Let's start by defining a simple linear regression model:"
   ]
  },
  {
   "cell_type": "code",
   "execution_count": 151,
   "id": "61cbe5a7-ad20-4044-aaaa-dda1067c2e41",
   "metadata": {},
   "outputs": [],
   "source": [
    "from torch import nn\n",
    "\n",
    "class NeuralNetworkAlpha(nn.Module):          # extending the nn.Module...\n",
    "    def __init__(self):                       # we won't need any additional parameters\n",
    "        super().__init__()                    # calling the constructor of the parent class\n",
    "        self.linear_layer = nn.Linear(3, 1)   # linear layer with input size of 3, output size of 1\n",
    "                                              # to model linear regression\n",
    "\n",
    "    def forward(self, x):                     # defining the forward pass\n",
    "        return self.linear_layer(x)"
   ]
  },
  {
   "attachments": {},
   "cell_type": "markdown",
   "id": "1822e26c-8f35-45a4-944e-c91daaea1656",
   "metadata": {},
   "source": [
    "Recall that a single layered neural network with linear activation models linear regression. PyTorch provides [a large ammount of layers](https://pytorch.org/docs/stable/nn.html) and we will give a list of commonly used ones:\n",
    "* [`Linear`](https://pytorch.org/docs/stable/generated/torch.nn.Linear.html#torch.nn.Linear) - defines a layer with linear activation function\n",
    "* [`ReLU`](https://pytorch.org/docs/stable/generated/torch.nn.ReLU.html#torch.nn.ReLU) - defines a layer with ReLu activation function\n",
    "* [`Sigmoid`](https://pytorch.org/docs/stable/generated/torch.nn.Sigmoid.html#torch.nn.Sigmoid) - defines a layer with sigmoid activation function\n",
    "* [`Conv2d`](https://pytorch.org/docs/stable/generated/torch.nn.Conv2d.html#torch.nn.Conv2d) - defines a 2D convolutional layer\n",
    "* [`Sequential`](https://pytorch.org/docs/stable/generated/torch.nn.Sequential.html#torch.nn.Sequential) - defines a sequential container which can take other layers and will apply them sequentially\n",
    "* [`Flatten`](https://pytorch.org/docs/stable/generated/torch.nn.Flatten.html#torch.nn.Flatten) - defines a layer that will flatten a multiple dimensional tensor into a single dimension\n",
    "\n",
    "We'll use some of these layers later on in this exercise. Let's continue by instantiating our network and calculating the output:"
   ]
  },
  {
   "cell_type": "code",
   "execution_count": 152,
   "id": "1b256c9e-8468-4a47-aaf9-7a18a7cd8143",
   "metadata": {},
   "outputs": [
    {
     "name": "stdout",
     "output_type": "stream",
     "text": [
      "structure of our network...\n",
      "NeuralNetworkAlpha(\n",
      "  (linear_layer): Linear(in_features=3, out_features=1, bias=True)\n",
      ")\n",
      "first dataset sample...\n",
      "tensor([-1.1867,  0.0894,  0.2324], device='cuda:0')\n",
      "target...\n",
      "tensor([-3.3383], device='cuda:0')\n",
      "network's output for the first dataset sample...\n",
      "tensor([0.3329], device='cuda:0', grad_fn=<ViewBackward0>)\n"
     ]
    }
   ],
   "source": [
    "# we create our network and move it to previously defined device\n",
    "network = NeuralNetworkAlpha().to(device)\n",
    "dataset = dataset\n",
    "print(\"structure of our network...\", network, sep='\\n')\n",
    "\n",
    "print(\"first dataset sample...\")\n",
    "print(dataset[0][0])\n",
    "print(\"target...\")\n",
    "print(dataset[0][1])\n",
    "print(\"network's output for the first dataset sample...\")\n",
    "print(network(dataset[0][0]))"
   ]
  },
  {
   "attachments": {},
   "cell_type": "markdown",
   "id": "f2346f00-a518-49cc-bbd9-d4be922c8247",
   "metadata": {},
   "source": [
    "We can inspect the network's parameters with the following:"
   ]
  },
  {
   "cell_type": "code",
   "execution_count": 153,
   "id": "dad369cf-49f1-4cd9-9c3f-39fb7f2429a6",
   "metadata": {},
   "outputs": [
    {
     "name": "stdout",
     "output_type": "stream",
     "text": [
      "linear_layer.weight Parameter containing:\n",
      "tensor([[-0.2802,  0.5544,  0.3266]], device='cuda:0', requires_grad=True)\n",
      "linear_layer.bias Parameter containing:\n",
      "tensor([-0.1251], device='cuda:0', requires_grad=True)\n"
     ]
    }
   ],
   "source": [
    "for name, param in network.named_parameters():\n",
    "    print(name, param)\n",
    "    "
   ]
  },
  {
   "attachments": {},
   "cell_type": "markdown",
   "id": "3db19f30-a687-4ade-8e01-39b5be4e7e42",
   "metadata": {},
   "source": [
    "We can see the values of parameters for each layer *(if you want a small exercise, manually verify that the output of our network was correct)*. Let's proceed with this exercise and see how we can use PyTorch to train our network."
   ]
  },
  {
   "attachments": {},
   "cell_type": "markdown",
   "id": "e07e4b18-bf0e-4ed1-8be1-124be3211d11",
   "metadata": {},
   "source": [
    "### 5.1.6 Parameter optimization\n",
    "In order to optimize our network using back propagation, we'll need to compute the gradients of the loss function with respect towards each parameter. PyTorch allows us to achieve this with automatic differentiation using `torch.autograd`, it's built-in differentiation engine. If we look back at the previous code cell, we can see that the layers of the network are tensors which have the property `requires_grad` equal to true. This makes the tensor's gradients available to be computed and allows PyTorch to calculate the backward pass for our network. If you want to learn more about the details of gradient calculation, check out the official [Autograd tutorial](https://pytorch.org/tutorials/beginner/basics/autogradqs_tutorial.html).\n",
    "\n",
    "Let's use the [mean squared error](https://pytorch.org/docs/stable/generated/torch.nn.MSELoss.html#torch.nn.MSELoss) as our loss function and compute the gradients for the first dataset sample:"
   ]
  },
  {
   "cell_type": "code",
   "execution_count": 154,
   "id": "e1a2d9e2-0c48-419d-b42a-97d8513898df",
   "metadata": {},
   "outputs": [
    {
     "name": "stdout",
     "output_type": "stream",
     "text": [
      "first sample...\n",
      "(tensor([-1.1867,  0.0894,  0.2324], device='cuda:0'), tensor([-3.3383], device='cuda:0'))\n",
      "first prediction...\n",
      "tensor([0.3329], device='cuda:0', grad_fn=<ViewBackward0>)\n",
      "MSE loss :  tensor(13.4777, device='cuda:0', grad_fn=<MseLossBackward0>)\n",
      "gradient of :  linear_layer.weight tensor([[-8.7134,  0.6564,  1.7066]], device='cuda:0')\n",
      "gradient of :  linear_layer.bias tensor([7.3424], device='cuda:0')\n"
     ]
    }
   ],
   "source": [
    "loss_fn = torch.nn.MSELoss()\n",
    "\n",
    "first_sample = dataset[0]\n",
    "\n",
    "first_prediction = network(first_sample[0])              # forward\n",
    "first_loss = loss_fn(first_sample[1], first_prediction)   # pass\n",
    "\n",
    "print(\"first sample...\", first_sample, sep='\\n')\n",
    "print(\"first prediction...\", first_prediction, sep='\\n')\n",
    "print(\"MSE loss : \", first_loss)\n",
    "\n",
    "first_loss.backward()                                   # backward pass\n",
    "\n",
    "for name, param in network.named_parameters():\n",
    "    print(\"gradient of : \", name, param.grad)          # printing the gradients"
   ]
  },
  {
   "attachments": {},
   "cell_type": "markdown",
   "id": "5a8aa82f-fa81-4c20-bc77-d920bc015115",
   "metadata": {},
   "source": [
    "We can see that our network's parameters are stored in the `param.grad` attribute. It is important to see how we've used the loss function:\n",
    "1) `loss_fn` - what our loss function is\n",
    "2) `first_loss` - represents the loss for given network predictions and ground truths\n",
    "3) `first_loss.backward` - propagating the gradients to our parameters\n",
    "\n",
    "Hopefully this demonstrates how PyTorch calculates and propagates the gradients of our loss function. \n",
    "\n",
    "Now we need to apply these gradients to our parameters. This is done with [an `Optimizer`](https://pytorch.org/docs/stable/optim.html). When defining an optimizer we need to provide it with parameters that should be optimized. In our case, these are the network's parameters. PyTorch provides [many optimization algorithms](https://pytorch.org/docs/stable/optim.html#algorithms) that apply gradients to our parameters. We'll use [stochastic gradient descent](https://pytorch.org/docs/stable/generated/torch.optim.SGD.html#torch.optim.SGD) as our optimizer. Let's instantiate our network, redefine our data loader, initialize the optimizer and define our hyperparameters:"
   ]
  },
  {
   "cell_type": "code",
   "execution_count": 155,
   "id": "195904a3-d370-4003-9d54-3dda9fc7ab6e",
   "metadata": {},
   "outputs": [],
   "source": [
    "from torch.optim import SGD\n",
    "\n",
    "# defining the hyperparameters\n",
    "epochs, learning_rate, batch_size = 100, 0.1, 100\n",
    "\n",
    "# redefining the dataloader with the new batch size\n",
    "dataloader = DataLoader(dataset, batch_size=batch_size, shuffle = True)\n",
    "\n",
    "# instantiating our network\n",
    "network = NeuralNetworkAlpha().to(device)\n",
    "\n",
    "# defining our optimizer for our network's parameters\n",
    "optimizer = SGD(network.parameters(), lr = learning_rate)"
   ]
  },
  {
   "attachments": {},
   "cell_type": "markdown",
   "id": "69c94050-a44e-4366-8d36-349777633479",
   "metadata": {},
   "source": [
    "Finally we need to iterate over our whole dataset and repeat the whole process - this is our training loop. Let's proceed with defining our training loop:"
   ]
  },
  {
   "cell_type": "code",
   "execution_count": 156,
   "id": "45bb05d3-ffa9-4f83-93b0-0eb547498f6e",
   "metadata": {},
   "outputs": [
    {
     "name": "stdout",
     "output_type": "stream",
     "text": [
      "Epoch 9 average loss : 0.02697587013244629\n",
      "Epoch 19 average loss : 0.0003758807433769107\n",
      "Epoch 29 average loss : 7.582771104353014e-06\n",
      "Epoch 39 average loss : 1.8147368052723323e-07\n",
      "Epoch 49 average loss : 4.7803818681302346e-09\n",
      "Epoch 59 average loss : 1.3159730249956425e-10\n",
      "Epoch 69 average loss : 3.834321315315803e-12\n",
      "Epoch 79 average loss : 1.4776445041511654e-13\n",
      "Epoch 89 average loss : 4.6844659092526095e-14\n",
      "Epoch 99 average loss : 4.6844659092526095e-14\n"
     ]
    }
   ],
   "source": [
    "for epoch in range(epochs):\n",
    "    # set the network to training mode\n",
    "    network.train()\n",
    "\n",
    "    epoch_loss = 0\n",
    "    number_of_samples = len(dataloader.dataset)\n",
    "    \n",
    "    for batch, (X, y) in enumerate(dataloader):\n",
    "        # forward pass\n",
    "        preds = network(X)   \n",
    "        loss = loss_fn(y, preds)\n",
    "        \n",
    "        \n",
    "        # backward pass\n",
    "        loss.backward()\n",
    "        optimizer.step()\n",
    "\n",
    "        # reseting the gradients\n",
    "        optimizer.zero_grad()\n",
    "\n",
    "        # updating the epoch loss with the current batch loss\n",
    "        epoch_loss += loss\n",
    "    \n",
    "    # printing the loss value for every 10th epoch\n",
    "    if (epoch+1) % 10 == 0:\n",
    "        print(f\"Epoch {epoch} average loss : {epoch_loss/number_of_samples}\")"
   ]
  },
  {
   "attachments": {},
   "cell_type": "markdown",
   "id": "e8d1edeb-416b-44b1-bfcf-5305e0dd28ef",
   "metadata": {},
   "source": [
    "We can see that the value of the loss function is decreasing, meaning that our network's parameters are being optimized for our training dataset. If we inspect the parameter values of our network:"
   ]
  },
  {
   "cell_type": "code",
   "execution_count": 157,
   "id": "636bfdf1-d688-4866-b017-9a3d1d19812d",
   "metadata": {},
   "outputs": [
    {
     "name": "stdout",
     "output_type": "stream",
     "text": [
      "linear_layer.weight Parameter containing:\n",
      "tensor([[9.0000, 8.0000, 7.0000]], device='cuda:0', requires_grad=True)\n",
      "linear_layer.bias Parameter containing:\n",
      "tensor([5.0000], device='cuda:0', requires_grad=True)\n"
     ]
    }
   ],
   "source": [
    "for name, param in network.named_parameters():\n",
    "    print(name, param)"
   ]
  },
  {
   "attachments": {},
   "cell_type": "markdown",
   "id": "41020072-a3d0-41c5-a211-47071e91fd0e",
   "metadata": {},
   "source": [
    "We can see that we've achieved the same values that we used for our synthetic dataset.\n",
    "\n",
    "You might wonder why we've called `network.train()` inside our training loop? This is a best practice according to [the official documentation](https://pytorch.org/docs/stable/notes/autograd.html#evaluation-mode-nn-module-eval) :\n",
    "> It is recommended that you always use `model.train()` when training and `model.eval()` when evaluating your model (validation/testing) even if you aren’t sure your model has training-mode specific behavior, because a module you are using might be updated to behave differently in training and eval modes.\n",
    "\n",
    "This concludes our introduction to PyTorch."
   ]
  },
  {
   "attachments": {},
   "cell_type": "markdown",
   "id": "cc69d9a1-3ea2-4f90-b84b-313fa238e025",
   "metadata": {},
   "source": [
    "## 5.3 The XOR problem\n",
    "\n",
    "XOR samples are not linearly separable. However, they can be separated by introducing non-linearities with our activation function. We'll start by defining our dataset using a helpful wrapper [TensorDataset](https://pytorch.org/docs/stable/data.html#torch.utils.data.TensorDataset):"
   ]
  },
  {
   "cell_type": "code",
   "execution_count": 158,
   "id": "80155416-60f7-43f5-98ee-e94a972903a6",
   "metadata": {},
   "outputs": [],
   "source": [
    "from torch.utils.data.dataset import TensorDataset\n",
    "\n",
    "xor_in = torch.tensor([\n",
    "    [0, 0],\n",
    "    [0, 1],\n",
    "    [1, 0],\n",
    "    [1, 1]], dtype = torch.float).to(device)\n",
    "\n",
    "xor_out = torch.tensor([0, 1, 1, 0], dtype = torch.float).to(device) # it is important to use the correct datatype\n",
    "xor_dataset = TensorDataset(xor_in, xor_out)\n",
    "\n"
   ]
  },
  {
   "attachments": {},
   "cell_type": "markdown",
   "id": "e292821d-be45-4425-b11c-c7491dc8d179",
   "metadata": {},
   "source": [
    "Now we'll define our network using a [Sequential container](https://pytorch.org/docs/stable/generated/torch.nn.Sequential.html#sequential) for our layers. Our network is also parameterized by a given activation function."
   ]
  },
  {
   "cell_type": "code",
   "execution_count": 159,
   "id": "4aa4c26a-6296-40c7-8a9a-1efc28e950b4",
   "metadata": {},
   "outputs": [],
   "source": [
    "class XORNetwork(nn.Module):\n",
    "    def __init__(self, activation_func):\n",
    "        super().__init__()\n",
    "        self.layer_stack = nn.Sequential(\n",
    "            nn.Linear(2, 2),\n",
    "            activation_func(),\n",
    "            nn.Linear(2, 1)\n",
    "            )\n",
    "\n",
    "    def forward(self, x):\n",
    "        return self.layer_stack(x)"
   ]
  },
  {
   "attachments": {},
   "cell_type": "markdown",
   "id": "21d23429-9e23-4488-92f1-585591dd5f8b",
   "metadata": {},
   "source": [
    "Let's instantiate our network, redefine our data loader and loss function, initialize the optimizer and define our hyperparameters:"
   ]
  },
  {
   "cell_type": "code",
   "execution_count": 160,
   "id": "e084138f-af7a-45a4-98a9-442d9638e011",
   "metadata": {},
   "outputs": [],
   "source": [
    "from torch.optim import Adam\n",
    "\n",
    "# defining the hyperparameters\n",
    "epochs, learning_rate, batch_size = 10000, 0.01, 1\n",
    "\n",
    "# defining the dataloader\n",
    "xor_dataloader = DataLoader(xor_dataset, batch_size=batch_size, shuffle=True)\n",
    "\n",
    "# defining the activation function\n",
    "activation_func = nn.Sigmoid\n",
    "\n",
    "# instantiating the network\n",
    "xor_network = XORNetwork(activation_func).to(device)\n",
    "\n",
    "# defining the optimizer type\n",
    "optimizer_type = SGD\n",
    "\n",
    "# defining our optimizer for our network's parameters\n",
    "optimizer = optimizer_type(xor_network.parameters(), lr = learning_rate)\n",
    "\n",
    "# redefining our loss function\n",
    "loss_fn = nn.MSELoss()\n",
    "\n",
    "# defining the threshold for stopping the training\n",
    "threshold=1e-6"
   ]
  },
  {
   "attachments": {},
   "cell_type": "markdown",
   "id": "2806938d-1ccf-40d1-a6a6-864b42cd2ebf",
   "metadata": {},
   "source": [
    "In practice, we recommend that you define a general training loop function instead of retyping the training loop for each network. [The official tutorial](https://pytorch.org/tutorials/beginner/basics/optimization_tutorial.html#full-implementation) provides a great example. In this exercise we're going to repeat our training loop for explanatory purposes. Let's proceed with our training loop:"
   ]
  },
  {
   "cell_type": "code",
   "execution_count": 161,
   "id": "8be263e5-a28e-4d7b-a37c-514ec8e5182c",
   "metadata": {},
   "outputs": [
    {
     "name": "stdout",
     "output_type": "stream",
     "text": [
      "Epoch 99 average loss : 0.2562759220600128\n",
      "Epoch 199 average loss : 0.2562396228313446\n",
      "Epoch 299 average loss : 0.2563892602920532\n",
      "Epoch 399 average loss : 0.25637733936309814\n",
      "Epoch 499 average loss : 0.2563591003417969\n",
      "Epoch 599 average loss : 0.2563474774360657\n",
      "Epoch 699 average loss : 0.25633105635643005\n",
      "Epoch 799 average loss : 0.2563163936138153\n",
      "Epoch 899 average loss : 0.25631004571914673\n",
      "Epoch 999 average loss : 0.2561379373073578\n",
      "Epoch 1099 average loss : 0.2562863826751709\n",
      "Epoch 1199 average loss : 0.2561078667640686\n",
      "Epoch 1299 average loss : 0.25626340508461\n",
      "Epoch 1399 average loss : 0.2562496066093445\n",
      "Epoch 1499 average loss : 0.25623953342437744\n",
      "Epoch 1599 average loss : 0.2562265694141388\n",
      "Epoch 1699 average loss : 0.2562338709831238\n",
      "Epoch 1799 average loss : 0.2562013268470764\n",
      "Epoch 1899 average loss : 0.25618505477905273\n",
      "Epoch 1999 average loss : 0.2561730742454529\n",
      "Epoch 2099 average loss : 0.2561710476875305\n",
      "Epoch 2199 average loss : 0.2559868395328522\n",
      "Epoch 2299 average loss : 0.25597667694091797\n",
      "Epoch 2399 average loss : 0.25611642003059387\n",
      "Epoch 2499 average loss : 0.25609731674194336\n",
      "Epoch 2599 average loss : 0.2560860514640808\n",
      "Epoch 2699 average loss : 0.25607019662857056\n",
      "Epoch 2799 average loss : 0.25605082511901855\n",
      "Epoch 2899 average loss : 0.25602859258651733\n",
      "Epoch 2999 average loss : 0.25601884722709656\n",
      "Epoch 3099 average loss : 0.2559969425201416\n",
      "Epoch 3199 average loss : 0.255973756313324\n",
      "Epoch 3299 average loss : 0.2557874917984009\n",
      "Epoch 3399 average loss : 0.2559232711791992\n",
      "Epoch 3499 average loss : 0.25591447949409485\n",
      "Epoch 3599 average loss : 0.2558758854866028\n",
      "Epoch 3699 average loss : 0.2558411955833435\n",
      "Epoch 3799 average loss : 0.25566035509109497\n",
      "Epoch 3899 average loss : 0.2557965815067291\n",
      "Epoch 3999 average loss : 0.25559306144714355\n",
      "Epoch 4099 average loss : 0.25555410981178284\n",
      "Epoch 4199 average loss : 0.25552552938461304\n",
      "Epoch 4299 average loss : 0.25564146041870117\n",
      "Epoch 4399 average loss : 0.2556079626083374\n",
      "Epoch 4499 average loss : 0.2555650770664215\n",
      "Epoch 4599 average loss : 0.25551077723503113\n",
      "Epoch 4699 average loss : 0.25530892610549927\n",
      "Epoch 4799 average loss : 0.2552609443664551\n",
      "Epoch 4899 average loss : 0.25520455837249756\n",
      "Epoch 4999 average loss : 0.2551436424255371\n",
      "Epoch 5099 average loss : 0.2552329897880554\n",
      "Epoch 5199 average loss : 0.25517037510871887\n",
      "Epoch 5299 average loss : 0.25508779287338257\n",
      "Epoch 5399 average loss : 0.25485214591026306\n",
      "Epoch 5499 average loss : 0.2547745108604431\n",
      "Epoch 5599 average loss : 0.25484126806259155\n",
      "Epoch 5699 average loss : 0.25474438071250916\n",
      "Epoch 5799 average loss : 0.2546345889568329\n",
      "Epoch 5899 average loss : 0.25453418493270874\n",
      "Epoch 5999 average loss : 0.25440624356269836\n",
      "Epoch 6099 average loss : 0.25427815318107605\n",
      "Epoch 6199 average loss : 0.25412580370903015\n",
      "Epoch 6299 average loss : 0.2539674937725067\n",
      "Epoch 6399 average loss : 0.2537960708141327\n",
      "Epoch 6499 average loss : 0.2536090016365051\n",
      "Epoch 6599 average loss : 0.25322872400283813\n",
      "Epoch 6699 average loss : 0.2531702220439911\n",
      "Epoch 6799 average loss : 0.2529093027114868\n",
      "Epoch 6899 average loss : 0.2524735927581787\n",
      "Epoch 6999 average loss : 0.2521653473377228\n",
      "Epoch 7099 average loss : 0.2519713044166565\n",
      "Epoch 7199 average loss : 0.2515794336795807\n",
      "Epoch 7299 average loss : 0.25113555788993835\n",
      "Epoch 7399 average loss : 0.25066953897476196\n",
      "Epoch 7499 average loss : 0.2501096725463867\n",
      "Epoch 7599 average loss : 0.2494749277830124\n",
      "Epoch 7699 average loss : 0.248610720038414\n",
      "Epoch 7799 average loss : 0.24793872237205505\n",
      "Epoch 7899 average loss : 0.24702222645282745\n",
      "Epoch 7999 average loss : 0.24578386545181274\n",
      "Epoch 8099 average loss : 0.2445332109928131\n",
      "Epoch 8199 average loss : 0.2432366907596588\n",
      "Epoch 8299 average loss : 0.24151724576950073\n",
      "Epoch 8399 average loss : 0.23951688408851624\n",
      "Epoch 8499 average loss : 0.23700575530529022\n",
      "Epoch 8599 average loss : 0.23431028425693512\n",
      "Epoch 8699 average loss : 0.2309289276599884\n",
      "Epoch 8799 average loss : 0.22673727571964264\n",
      "Epoch 8899 average loss : 0.2219584584236145\n",
      "Epoch 8999 average loss : 0.21598762273788452\n",
      "Epoch 9099 average loss : 0.20880164206027985\n",
      "Epoch 9199 average loss : 0.1999707967042923\n",
      "Epoch 9299 average loss : 0.18959878385066986\n",
      "Epoch 9399 average loss : 0.17706747353076935\n",
      "Epoch 9499 average loss : 0.16235464811325073\n",
      "Epoch 9599 average loss : 0.14542467892169952\n",
      "Epoch 9699 average loss : 0.12662701308727264\n",
      "Epoch 9799 average loss : 0.10662548989057541\n",
      "Epoch 9899 average loss : 0.08642630279064178\n",
      "Epoch 9999 average loss : 0.0672733336687088\n"
     ]
    }
   ],
   "source": [
    "for epoch in range(epochs):\n",
    "    # set the network to training mode\n",
    "    xor_network.train()\n",
    "\n",
    "    epoch_loss = 0\n",
    "    number_of_samples = len(xor_dataloader.dataset)\n",
    "    \n",
    "    for batch, (X, y) in enumerate(xor_dataloader):\n",
    "        # forward pass\n",
    "        preds = xor_network(X)\n",
    "        y = y.unsqueeze(1)\n",
    "        \n",
    "        loss = loss_fn(y, preds)\n",
    "\n",
    "        # backward pass\n",
    "        loss.backward()\n",
    "        optimizer.step()\n",
    "\n",
    "        # reseting the gradients\n",
    "        optimizer.zero_grad()\n",
    "\n",
    "        # updating the epoch loss with the current batch loss\n",
    "        epoch_loss += loss\n",
    "    \n",
    "    # printing the loss value for every 100th epoch\n",
    "    if (epoch+1) % 100 == 0:\n",
    "        print(f\"Epoch {epoch} average loss : {epoch_loss/number_of_samples}\")\n",
    "    if (epoch_loss/number_of_samples < threshold):\n",
    "        print(f\"Epoch {epoch} average loss : {epoch_loss/number_of_samples}\")\n",
    "        print(f\"Training is finished after epoch {epoch+1}\")\n",
    "        break\n",
    "    "
   ]
  },
  {
   "attachments": {},
   "cell_type": "markdown",
   "id": "d074d1df-43e9-42ed-97a0-2618fbaa380c",
   "metadata": {},
   "source": [
    "**Task**\n",
    "\n",
    "1. How many epochs are required for the training process to converge for each combination of the chosen activation function (Sigmoid, Tanh), optimizer (SGD/Adam)  and various learning rates (0.1, 0.01)? Display the results using the table with the following headers: **Activation function, Optimizer, Learning rate, Number of epochs**).\n",
    "2. Which combination turned out to be the best? Are there combinations for which the training process does not converge?\n",
    "\n",
    "*Remember to re-evaluate the previous two cells in order to properly apply changes. *"
   ]
  },
  {
   "attachments": {},
   "cell_type": "markdown",
   "id": "1ee14da2",
   "metadata": {},
   "source": [
    "1. \n",
    "| Activation function | Optimizer | Learning rate | Number of epochs |\n",
    "| --- | --- | --- | --- |\n",
    "| Tanh | Adam | 0.1 | 68 |\n",
    "| Tanh | Adam | 0.01 | 801 |\n",
    "| Tanh | SGD | 0.1 | no convergence after 10000 epochs |\n",
    "| Tanh | SGD | 0.01 | 1457 |\n",
    "| Sigmoid | Adam | 0.1 | 113 |\n",
    "| Sigmoid | Adam | 0.01 | 1112 |\n",
    "| Sigmoid | SGD | 0.1 | 1531 |\n",
    "| Sigmoid | SGD | 0.01 | no conv. after 10000 epochs |\n",
    "2. \n",
    "Tanh, Adam, 0.1 turned out to be the most efficient. \n",
    "\n",
    "Tahng, SGD, 0.1 did not converge, seems to be as a result of too high learning rate. \n",
    "\n",
    "Sigmoid, SGD, 0.01 did not converge also, this time it seems as though the learning rate is too small and learning will take more than 10000 epochs. "
   ]
  },
  {
   "attachments": {},
   "cell_type": "markdown",
   "id": "dbd29ef7-b8b4-400c-8a88-1b14e024a427",
   "metadata": {},
   "source": [
    "## 5.4 The MNIST dataset\n",
    "\n",
    "[The MNIST dataset](http://yann.lecun.com/exdb/mnist/) is a very popular dataset which contains 60,000 training and 10,000 test images of handwritten digits. It is used to test the ability of a method to recognize which digit is on a given image. MNIST dataset is included with the [`torchvision` library](https://pytorch.org/vision/stable/index.html), so let's start by importing the train and test datasets:"
   ]
  },
  {
   "attachments": {},
   "cell_type": "markdown",
   "id": "abb767eb-14fe-4e02-aa77-eeadd7eea913",
   "metadata": {},
   "source": [
    "We've also used `ToTensor` function to transform MNIST images to tensors. Transforms are PyTorch mechanism of data processing. For additional details, check out [the Transforms tutorial](https://pytorch.org/tutorials/beginner/basics/transforms_tutorial.html).\n",
    "\n",
    "Let's continue by defining our network. We're going to ignore the spatial distribution of individual image pixels and simply use individual pixels as features. This can simply be done by [flattening our images](https://pytorch.org/docs/stable/generated/torch.nn.Flatten.html#torch.nn.Flatten). We'll also add aditional hidden layers with activation functions:"
   ]
  },
  {
   "cell_type": "code",
   "execution_count": 167,
   "id": "74ffceea-3e03-422a-80e9-66e23aced46a",
   "metadata": {},
   "outputs": [],
   "source": [
    "from torchvision.datasets import MNIST\n",
    "from torchvision.datasets import FashionMNIST\n",
    "from torchvision.transforms import ToTensor\n",
    "\n",
    "# download MNIST from the internet and store it in the notebook's directory\n",
    "mnist_train = MNIST(root = '', train = True, download = True, transform = ToTensor())\n",
    "mnist_test = MNIST(root = '', train = False, download = True, transform = ToTensor())\n",
    "\n"
   ]
  },
  {
   "cell_type": "code",
   "execution_count": 169,
   "id": "cc4c2a47",
   "metadata": {},
   "outputs": [],
   "source": [
    "# Sending entire MNIST dataset to GPU\n",
    "\n",
    "class CustomDatasetMNIST(Dataset):                                    \n",
    "    def __init__(self, mnist):             \n",
    "        self.number_of_samples = len(mnist)                                                       \n",
    "        self.data = []\n",
    "\n",
    "        for i in range(len(mnist)):\n",
    "            self.data += [(mnist[i][0].to(device), torch.tensor(mnist[i][1]).to(device))]\n",
    "\n",
    "    def __len__(self):\n",
    "        return self.number_of_samples\n",
    "\n",
    "    def __getitem__(self, index):\n",
    "        return self.data[index]\n",
    "    \n",
    "mnist_train = CustomDatasetMNIST(mnist_train)\n",
    "mnist_test = CustomDatasetMNIST(mnist_test)"
   ]
  },
  {
   "cell_type": "code",
   "execution_count": 170,
   "id": "a899cea4-a96b-4554-8452-17b091e971bc",
   "metadata": {},
   "outputs": [],
   "source": [
    "class MNISTNetwork(nn.Module):\n",
    "    def __init__(self, hidden_layer_size1, hidden_layer_size2, activation_funct):\n",
    "        super().__init__()\n",
    "        self.flatten = nn.Flatten()\n",
    "\n",
    "        # 28x28 is the resolution of the images\n",
    "        self.pixel_count = 28 * 28\n",
    "        self.number_of_classes = 10\n",
    "        \n",
    "        self.layer_stack = nn.Sequential(\n",
    "            nn.Linear(self.pixel_count, hidden_layer_size1),\n",
    "            activation_func(),\n",
    "            nn.Linear(hidden_layer_size1, hidden_layer_size2),\n",
    "            activation_func(),\n",
    "            nn.Linear(hidden_layer_size2, self.number_of_classes)\n",
    "            )\n",
    "\n",
    "    def forward(self, x):\n",
    "        x = self.flatten(x)\n",
    "        return self.layer_stack(x)"
   ]
  },
  {
   "attachments": {},
   "cell_type": "markdown",
   "id": "7854f313-45bf-4e79-90a4-c1cd07431683",
   "metadata": {},
   "source": [
    "Let's instantiate all of the needed classes and variables. Since we're doing classification, we're going to use [cross entropy loss function](https://pytorch.org/docs/stable/generated/torch.nn.CrossEntropyLoss.html#torch.nn.CrossEntropyLoss)."
   ]
  },
  {
   "cell_type": "code",
   "execution_count": 204,
   "id": "cf93d8f7-8eb4-4ff5-a9fb-fd871ccceb66",
   "metadata": {},
   "outputs": [],
   "source": [
    "# defining the hyperparameters\n",
    "epochs, learning_rate, batch_size = 20, 0.01, 100\n",
    "\n",
    "# defining the dataloaders\n",
    "mnist_train_dataloader = DataLoader(mnist_train, batch_size=batch_size, shuffle=True)\n",
    "mnist_test_dataloader = DataLoader(mnist_test, batch_size=batch_size, shuffle=True)\n",
    "\n",
    "# defining the activation function\n",
    "# activation_func = nn.Sigmoid\n",
    "# activation_func = nn.Tanh\n",
    "activation_func = nn.ReLU\n",
    "\n",
    "# instantiating the network\n",
    "hidden_layer_size_1 = 128\n",
    "hidden_layer_size_2 = 128\n",
    "mnist_network = MNISTNetwork(hidden_layer_size_1, hidden_layer_size_2, activation_func).to(device)\n",
    "\n",
    "# defining the optimizer type\n",
    "# optimizer_type = SGD\n",
    "optimizer_type = Adam\n",
    "\n",
    "# defining our optimizer for our network's parameters\n",
    "optimizer = optimizer_type(mnist_network.parameters(), lr = learning_rate)\n",
    "\n",
    "# redefining our loss function\n",
    "loss_fn = nn.CrossEntropyLoss()"
   ]
  },
  {
   "attachments": {},
   "cell_type": "markdown",
   "id": "e3073774-3e8b-422f-9cb9-d1fe88fb2977",
   "metadata": {},
   "source": [
    "And let's run our training loop. We're also going to print the print the value of the loss function for the validation set."
   ]
  },
  {
   "cell_type": "code",
   "execution_count": 205,
   "id": "f68bfd85-1f51-47f6-8676-87593d3dfcf1",
   "metadata": {},
   "outputs": [
    {
     "name": "stdout",
     "output_type": "stream",
     "text": [
      "Epoch 0 average train loss : 0.00244578393176198\n",
      "Epoch 0 average test loss : 0.0013691172935068607\n",
      "Epoch 0 test accuracy : 0.9558\n",
      "Epoch 1 average train loss : 0.0012908782809972763\n",
      "Epoch 1 average test loss : 0.00131572550162673\n",
      "Epoch 1 test accuracy : 0.9626\n",
      "Epoch 2 average train loss : 0.0011406561825424433\n",
      "Epoch 2 average test loss : 0.001526291947811842\n",
      "Epoch 2 test accuracy : 0.9612\n",
      "Epoch 3 average train loss : 0.0010790869127959013\n",
      "Epoch 3 average test loss : 0.0013219841057434678\n",
      "Epoch 3 test accuracy : 0.9638\n",
      "Epoch 4 average train loss : 0.0009362312848679721\n",
      "Epoch 4 average test loss : 0.0015397982206195593\n",
      "Epoch 4 test accuracy : 0.967\n",
      "Epoch 5 average train loss : 0.0009002341539599001\n",
      "Epoch 5 average test loss : 0.001298068556934595\n",
      "Epoch 5 test accuracy : 0.97\n",
      "Epoch 6 average train loss : 0.0007983646355569363\n",
      "Epoch 6 average test loss : 0.0017927386797964573\n",
      "Epoch 6 test accuracy : 0.9639\n",
      "Epoch 7 average train loss : 0.0008439308148808777\n",
      "Epoch 7 average test loss : 0.0014844188699498773\n",
      "Epoch 7 test accuracy : 0.9687\n",
      "Epoch 8 average train loss : 0.0007685276796109974\n",
      "Epoch 8 average test loss : 0.001674448954872787\n",
      "Epoch 8 test accuracy : 0.9671\n",
      "Epoch 9 average train loss : 0.0007044829544611275\n",
      "Epoch 9 average test loss : 0.001398058608174324\n",
      "Epoch 9 test accuracy : 0.9714\n",
      "Epoch 10 average train loss : 0.0006513010594062507\n",
      "Epoch 10 average test loss : 0.0019143925746902823\n",
      "Epoch 10 test accuracy : 0.9654\n",
      "Epoch 11 average train loss : 0.0006756787188351154\n",
      "Epoch 11 average test loss : 0.001887823804281652\n",
      "Epoch 11 test accuracy : 0.9647\n",
      "Epoch 12 average train loss : 0.0006341543048620224\n",
      "Epoch 12 average test loss : 0.0015698536299169064\n",
      "Epoch 12 test accuracy : 0.971\n",
      "Epoch 13 average train loss : 0.000615498167462647\n",
      "Epoch 13 average test loss : 0.001666440162807703\n",
      "Epoch 13 test accuracy : 0.9716\n",
      "Epoch 14 average train loss : 0.0006489650113508105\n",
      "Epoch 14 average test loss : 0.0015279460931196809\n",
      "Epoch 14 test accuracy : 0.9711\n",
      "Epoch 15 average train loss : 0.0005916238878853619\n",
      "Epoch 15 average test loss : 0.0017890590243041515\n",
      "Epoch 15 test accuracy : 0.9672\n",
      "Epoch 16 average train loss : 0.0006336194346658885\n",
      "Epoch 16 average test loss : 0.0019893436692655087\n",
      "Epoch 16 test accuracy : 0.9688\n",
      "Epoch 17 average train loss : 0.0005809692665934563\n",
      "Epoch 17 average test loss : 0.0018450228963047266\n",
      "Epoch 17 test accuracy : 0.9751\n",
      "Epoch 18 average train loss : 0.0005573607049882412\n",
      "Epoch 18 average test loss : 0.001896383473649621\n",
      "Epoch 18 test accuracy : 0.9691\n",
      "Epoch 19 average train loss : 0.0005563186132349074\n",
      "Epoch 19 average test loss : 0.0020892154425382614\n",
      "Epoch 19 test accuracy : 0.9697\n"
     ]
    }
   ],
   "source": [
    "for epoch in range(epochs):\n",
    "    # set the network to training mode\n",
    "    mnist_network.train()\n",
    "\n",
    "    epoch_loss = 0\n",
    "    number_of_samples = len(mnist_train_dataloader.dataset)\n",
    "        \n",
    "    for batch, (X, y) in enumerate(mnist_train_dataloader):\n",
    "        # forward pass\n",
    "        preds = mnist_network(X)\n",
    "        loss = loss_fn(preds, y)\n",
    "\n",
    "        # backward pass\n",
    "        loss.backward()\n",
    "        optimizer.step()\n",
    "\n",
    "        # reseting the gradients\n",
    "        optimizer.zero_grad()\n",
    "        \n",
    "        # updating the epoch loss with the current batch loss\n",
    "        epoch_loss += loss\n",
    "\n",
    "    # printing the train loss value for every n epochs\n",
    "    if (epoch+1) % 1 == 0:\n",
    "        print(f\"Epoch {epoch} average train loss : {epoch_loss/number_of_samples}\")\n",
    "\n",
    "    # printing the test set metrics for every n epochs\n",
    "    if (epoch+1) % 1 == 0:\n",
    "        test_loss = 0\n",
    "        correct = 0\n",
    "        number_of_test_samples = len(mnist_test_dataloader.dataset)\n",
    "\n",
    "        # set the network to evaluation mode\n",
    "        mnist_network.eval()\n",
    "        \n",
    "        for (X, y) in mnist_test_dataloader:\n",
    "            preds = mnist_network(X)\n",
    "            loss = loss_fn(preds, y)\n",
    "\n",
    "            # updating the test loss with the current batch loss\n",
    "            test_loss += loss\n",
    "\n",
    "            # updating the number of correctly classified images\n",
    "            # this great one-liner was copied from \n",
    "            # https://pytorch.org/tutorials/beginner/basics/optimization_tutorial.html#full-implementation\n",
    "            correct += (preds.argmax(1) == y).type(torch.float).sum().item()\n",
    "\n",
    "        print(f\"Epoch {epoch} average test loss : {test_loss/number_of_test_samples}\")\n",
    "        print(f\"Epoch {epoch} test accuracy : {correct/number_of_test_samples}\")"
   ]
  },
  {
   "attachments": {},
   "cell_type": "markdown",
   "id": "7ca51440-2dab-4c55-bccb-eb3a53d18a84",
   "metadata": {},
   "source": [
    "Notice that when we evaluated the network on the test set, we've set the network to the evaluation mode using `.eval()` method. This is again best practice according to [the official documentation](https://pytorch.org/docs/stable/notes/autograd.html#evaluation-mode-nn-module-eval).\n",
    "\n",
    "**Task**\n",
    "\n",
    "1. Experiment with different activation functions, learning rates, batch sizes, optimizers, and architectures. \n",
    "   * What is the best combination of them? \n",
    "   * Which of them has the highest impact on the accuracy and rate of convergence? \n",
    "   * How about the size of hidden layers? Make the comparisons and draw the appropriate plots.\n",
    "\n",
    "*Remember to re-evaluate the previous two cells in order to properly apply changes.*"
   ]
  },
  {
   "attachments": {},
   "cell_type": "markdown",
   "id": "3db8b676",
   "metadata": {},
   "source": [
    "1.\n",
    "| Activation function | Optimizer  | Learning rate | Architecture | Batch size | Accuracy after 20 epochs |\n",
    "| --- | --- | --- | --- |--- |--- |\n",
    "| ReLU | Adam | 0.01 | (256, 256) |100| 0.9704 |\n",
    "| ReLU | SGD | 0.01 | (256, 256) |100| 0.9463 |\n",
    "| Tanh | Adam | 0.01 | (256, 256) |100| 0.9472 |\n",
    "| Sigmoid | Adam | 0.01 | (256, 256) |100| 0.976 |\n",
    "| ReLU | Adam | 0.1 | (256, 256) |100| 0.1903 |\n",
    "| ReLU | Adam | 0.01 | (256, 256) |200| 0.9755 |\n",
    "| ReLU | Adam | 0.01 | (256, 256) |50| 0.9681 |\n",
    "| ReLU | Adam | 0.01 | (512, 512) |100| 0.9682 |\n",
    "| ReLU | Adam | 0.01 | (128, 512) |100| 0.9721 |\n",
    "| ReLU | Adam | 0.01 | (512, 128) |100| 0.974 | \n",
    "| ReLU | Adam | 0.01 | (1024, 1024) |100| 0.9691 |\n",
    "| Sigmoid | Adam | 0.01 | (512, 248) | 200 | 0.9774| \n",
    "\n",
    "The best combination appears to be Sigmoid, Adam, 0.01, one hidden layer larger than the other, larger batches.\n",
    "\n",
    "Learning rate appears to have the highest impact because if it is too large the learning proces can diverge.\n",
    "\n",
    "It appears that it is beneficial for one hidden layer to be larger than the other. Making them both very large doesnt have a big impact on convergence.\n",
    "\n",
    "Using : ReLU, Adam, 0.01,  batch size 100\n",
    "First hidden layer size | Second hidden layer size | Accuracy after 20 epochs |\n",
    "| --- |--- |--- |\n",
    "|128 | 512 | 0.9721 |\n",
    "|512 | 248 | 0.9733 |\n",
    "|512 | 128 | 0.974 | \n",
    "|1024 | 128 | 0.9747 | \n",
    "|1024 | 1024 | 0.9691 | \n",
    "|128 | 128 | 0.9697 |\n",
    "\n",
    "This data is more understanable in a table than when plotted thus I see no reason to attempt to plot it."
   ]
  },
  {
   "attachments": {},
   "cell_type": "markdown",
   "id": "04e32f8a",
   "metadata": {
    "collapsed": true
   },
   "source": [
    "# 6 Support Vector Machine\n",
    "## 6.1 Kernels\n",
    "Support Vector Machine can [use different kernels](https://en.wikipedia.org/wiki/Kernel_method): linear, radial basis function, polynomial, sigmoid, etc. The difference between some of them can be seen after running the code below that uses a classical example. Besides the usual packages, the *sklearn* package is also used here."
   ]
  },
  {
   "cell_type": "code",
   "execution_count": 217,
   "id": "915b4bb9",
   "metadata": {},
   "outputs": [
    {
     "name": "stdout",
     "output_type": "stream",
     "text": [
      "Accuracy: 80.00%\n"
     ]
    },
    {
     "data": {
      "image/png": "[encoded data removed]",
      "text/plain": [
       "<Figure size 640x480 with 1 Axes>"
      ]
     },
     "metadata": {},
     "output_type": "display_data"
    },
    {
     "name": "stdout",
     "output_type": "stream",
     "text": [
      "Accuracy: 68.89%\n"
     ]
    },
    {
     "data": {
      "image/png": "[encoded data removed]",
      "text/plain": [
       "<Figure size 640x480 with 1 Axes>"
      ]
     },
     "metadata": {},
     "output_type": "display_data"
    },
    {
     "name": "stdout",
     "output_type": "stream",
     "text": [
      "Accuracy: 68.89%\n"
     ]
    },
    {
     "data": {
      "image/png": "[encoded data removed]",
      "text/plain": [
       "<Figure size 640x480 with 1 Axes>"
      ]
     },
     "metadata": {},
     "output_type": "display_data"
    }
   ],
   "source": [
    "import numpy as np\n",
    "import matplotlib.pyplot as plt\n",
    "from sklearn import svm, datasets\n",
    "from sklearn.model_selection import train_test_split\n",
    "\n",
    "#take the well-known iris dataset\n",
    "iris = datasets.load_iris()\n",
    "#we will use only sepal length and width\n",
    "features=iris.data[:, :2]\n",
    "# features=iris.data[:, 2:]\n",
    "\n",
    "#print(len(iris.data))\n",
    "#print(iris.data)\n",
    "classes=iris.target\n",
    "\n",
    "features_train, features_test, classes_train, classes_test = train_test_split(features, classes, test_size=0.3)\n",
    "\n",
    "\n",
    "#plot points\n",
    "x1, x2=features[:, 0], features[:, 1]\n",
    "x_min, x_max=x1.min()-1, x1.max()+1\n",
    "y_min, y_max=x2.min()-1, x2.max()+1\n",
    "h=0.02\n",
    "plot_x, plot_y=np.meshgrid(np.arange(x_min, x_max, h), np.arange(y_min, y_max, h))\n",
    "\n",
    "#regularization\n",
    "C=1.0  \n",
    "models=(svm.SVC(kernel=\"linear\", C=C),\n",
    "          svm.SVC(kernel=\"rbf\", gamma=0.7, C=C),\n",
    "          svm.SVC(kernel=\"poly\", degree=3, C=C))\n",
    "models=(model.fit(features_train, classes_train) for model in models)\n",
    "\n",
    "# title for the plots\n",
    "titles = (\"Linear kernel\", \"RBF kernel\", \"Polynomial (degree 3) kernel\")\n",
    "\n",
    "\n",
    "for model, title in zip(models, titles):\n",
    "    points=model.predict(np.c_[plot_x.ravel(), plot_y.ravel()]).reshape(plot_x.shape)\n",
    "    plt.contourf(plot_x, plot_y, points, cmap=plt.cm.coolwarm, alpha=0.8)\n",
    "    plt.xlim(plot_x.min(), plot_x.max())\n",
    "    plt.ylim(plot_y.min(), plot_y.max())\n",
    "    plt.xlabel(\"Sepal length\")\n",
    "    plt.ylabel(\"Sepal width\")\n",
    "    plt.title(title)\n",
    "    \n",
    "    predicted=model.predict(features_test)\n",
    "    print(\"Accuracy: %.2lf%%\"%(100*np.sum(classes_test==predicted)/classes_test.size))\n",
    "    \n",
    "    plt.scatter(x1, x2, c=classes, cmap=plt.cm.coolwarm, s=20, edgecolors=\"k\")\n",
    "    \n",
    "    plt.show()"
   ]
  },
  {
   "attachments": {},
   "cell_type": "markdown",
   "id": "71810e65",
   "metadata": {},
   "source": [
    "**Tasks**\n",
    "\n",
    "1. What accuracies are achieved when other two features of the iris dataset are used?\n",
    "2. Split the iris dataset into a training and testing part with the ratio 70/30, fit the SVM model with different kernels on the training part, and test it on the testing part. Which kernel gives the highest accuracy? Take care of the target class distribution in the training/testing part.\n",
    "3. Make the code below give over 90% accuracy."
   ]
  },
  {
   "attachments": {},
   "cell_type": "markdown",
   "id": "faf77e7d",
   "metadata": {},
   "source": [
    "1. An accuracy of 96.67% on all 3 models is achieved.  \n",
    "2. The highest accuracy is achieved by the linear kernel.\n",
    "3. Using RBF kernel with C=2 and γ=0.5 we achieve accuray higher than 90%."
   ]
  },
  {
   "cell_type": "code",
   "execution_count": 236,
   "id": "4086458b",
   "metadata": {},
   "outputs": [
    {
     "name": "stdout",
     "output_type": "stream",
     "text": [
      "Accuracy: 95.25%\n"
     ]
    }
   ],
   "source": [
    "import numpy as np\n",
    "from sklearn import svm, datasets\n",
    "\n",
    "n1=400\n",
    "n2=400\n",
    "\n",
    "class1=(np.tile(np.random.uniform(low=0.0, high=1, size=n2).reshape((n2, 1)), (1, 2))+3/2)*\\\n",
    "np.array([(np.cos(a), np.sin(a)) for a in np.random.uniform(low=2, high=8, size=n2)])+np.tile(np.array([[3/2, 0]]), (n1, 1))\n",
    "\n",
    "class2=(np.tile(np.random.uniform(low=0.0, high=1, size=n2).reshape((n2, 1)), (1, 2))+3/2)*\\\n",
    "np.array([(np.cos(a), np.sin(a)) for a in np.random.uniform(low=-1, high=4, size=n2)])\n",
    "x=np.vstack((class1, class2))\n",
    "y=np.concatenate((np.ones((n1)), 2*np.ones((n2))))\n",
    "\n",
    "idx=np.random.permutation(y.size)\n",
    "\n",
    "x=x[idx, :]\n",
    "y=y[idx]\n",
    "\n",
    "s=round((n1+n2)/2)\n",
    "\n",
    "x_train=x[:s, :]\n",
    "y_train=y[:s]\n",
    "\n",
    "x_test=x[s:, :]\n",
    "y_test=y[s:]\n",
    "\n",
    "#EDIT from ....\n",
    "model= svm.SVC(kernel=\"rbf\", C=2, gamma=0.5)\n",
    "model.fit(x_train, y_train)\n",
    "#...TO HERE\n",
    "\n",
    "predicted=model.predict(x_test);\n",
    "print(\"Accuracy: %.2lf%%\"%(100*np.sum(y_test==predicted)/y_test.size))\n"
   ]
  },
  {
   "attachments": {},
   "cell_type": "markdown",
   "id": "ee9d129e",
   "metadata": {},
   "source": [
    "## 6.2 Wine dataset\n",
    "Here we are going to make some experiments with the wine dataset to see how features can [affect](https://en.wikipedia.org/wiki/Feature_selection) the classification.\n",
    "\n",
    "**Tasks**\n",
    "\n",
    "1. Which SVM kernel will achieve the highest accuracy when all features are used?\n",
    "2. If you can use **only one** feature and any kernel to achieve highest possible accuracy, which feature and kernel would that be?\n",
    "3. If you can use **only two** features and any kernel to achieve highest possible accuracy, which feature and kernel would that be?\n",
    "4. How do you explain the results?"
   ]
  },
  {
   "cell_type": "code",
   "execution_count": 302,
   "id": "49ca5e41",
   "metadata": {},
   "outputs": [
    {
     "name": "stdout",
     "output_type": "stream",
     "text": [
      "linear\n",
      "77.52808988764045 6\n",
      "rbf\n",
      "80.89887640449439 6\n",
      "poly\n",
      "77.52808988764045 6\n"
     ]
    }
   ],
   "source": [
    "from sklearn.datasets import load_wine\n",
    "wine=load_wine()\n",
    "x=wine.data\n",
    "y=wine.target\n",
    "idx=np.random.permutation(y.size)\n",
    "x=x[idx, :]\n",
    "y=y[idx]\n",
    "\n",
    "for m in [\"linear\", \"rbf\", \"poly\"]:\n",
    "    print(m)\n",
    "    max = 0\n",
    "    ind = 0\n",
    "    for i in range(x.shape[1]):\n",
    "        features_idx=[i]\n",
    "\n",
    "        x_tmp=x[:, features_idx]\n",
    "\n",
    "        s=round(y.size/2)\n",
    "\n",
    "        x_train=x_tmp[:s, :]\n",
    "        y_train=y[:s]\n",
    "\n",
    "        x_test=x_tmp[s:, :]\n",
    "        y_test=y[s:]\n",
    "\n",
    "        model=svm.SVC(kernel=m)\n",
    "        model.fit(x_train, y_train)\n",
    "\n",
    "        predicted=model.predict(x_test)\n",
    "        acc = 100*np.sum(y_test==predicted)/y_test.size\n",
    "        if acc > max:\n",
    "            max = acc\n",
    "            ind = i\n",
    "        #print(i)\n",
    "        #print(\"Accuracy: %.2lf%%\"%(100*np.sum(y_test==predicted)/y_test.size))\n",
    "    print(max, ind)"
   ]
  },
  {
   "cell_type": "code",
   "execution_count": 303,
   "id": "452571b6",
   "metadata": {},
   "outputs": [
    {
     "name": "stdout",
     "output_type": "stream",
     "text": [
      "linear\n",
      "(6, 9)\n",
      "Accuracy: 94.38%\n",
      "rbf\n",
      "(6, 9)\n",
      "Accuracy: 94.38%\n",
      "poly\n",
      "(6, 9)\n",
      "Accuracy: 93.26%\n"
     ]
    }
   ],
   "source": [
    "for m in [\"linear\", \"rbf\", \"poly\"]:\n",
    "    print(m)\n",
    "    max = 0\n",
    "    pair = (0, 0)\n",
    "    for i in range(x.shape[1]):\n",
    "        for j in range(i + 1, x.shape[1]):\n",
    "            features_idx=[i, j]\n",
    "\n",
    "            x_tmp=x[:, features_idx]\n",
    "\n",
    "            s=round(y.size/2)\n",
    "\n",
    "            x_train=x_tmp[:s, :]\n",
    "            y_train=y[:s]\n",
    "\n",
    "            x_test=x_tmp[s:, :]\n",
    "            y_test=y[s:]\n",
    "\n",
    "            model=svm.SVC(kernel=m)\n",
    "            model.fit(x_train, y_train)\n",
    "\n",
    "            predicted=model.predict(x_test)\n",
    "            acc = 100*np.sum(y_test==predicted)/y_test.size\n",
    "            if acc > max:\n",
    "                max = acc\n",
    "                pair = (i, j)\n",
    "\n",
    "    print(pair)\n",
    "    print(\"Accuracy: %.2lf%%\"%(max))\n",
    "\n",
    "    "
   ]
  },
  {
   "cell_type": "code",
   "execution_count": 306,
   "id": "fcb1ba35",
   "metadata": {},
   "outputs": [
    {
     "data": {
      "text/plain": [
       "<matplotlib.collections.PathCollection at 0x1c4e7a27cd0>"
      ]
     },
     "execution_count": 306,
     "metadata": {},
     "output_type": "execute_result"
    },
    {
     "data": {
      "image/png": "[encoded data removed]",
      "text/plain": [
       "<Figure size 640x480 with 1 Axes>"
      ]
     },
     "metadata": {},
     "output_type": "display_data"
    }
   ],
   "source": [
    "plt.scatter(x[:, [6]], x[:, [9]], c=y, cmap=plt.cm.coolwarm, s=20, edgecolors=\"k\")"
   ]
  },
  {
   "attachments": {},
   "cell_type": "markdown",
   "id": "8c38a611",
   "metadata": {},
   "source": [
    "1. Linear kernel achieves the highest accuracy when all features are used \n",
    "2. RBF kernel has the highest accuracy when only feature 6 is used.\n",
    "3. Both the linear and RBF kernel have the highest accuracy when features 6 and 9 are used.\n",
    "4. It would appear that feature 6 is the most discriminative feature by which the classes are almost lineary separable. "
   ]
  },
  {
   "attachments": {},
   "cell_type": "markdown",
   "id": "ba7d2025",
   "metadata": {},
   "source": [
    "## 6.3 Speed\n",
    "SVM is really great, but it has an important disadvantage with respect to neural networks in general. Here we are going to demonstrate it.\n",
    "\n",
    "**Tasks**\n",
    "1. Run the code below for various dataset sizes and each time store the time needed for the model to fit.\n",
    "2. Draw a plot that shows the influence of dataset size on execution time.\n",
    "3. How would you model the influence?"
   ]
  },
  {
   "cell_type": "code",
   "execution_count": 320,
   "id": "d40cf8c0",
   "metadata": {},
   "outputs": [],
   "source": [
    "import matplotlib.pyplot as plt\n",
    "import numpy as np\n",
    "from sklearn import svm, datasets\n",
    "\n",
    "def create_data(n1, n2):\n",
    "    class1=np.c_[np.random.normal(0, 1, size=n1), np.random.normal(0, 1, size=n1)]\n",
    "    class2=np.c_[np.random.normal(2, 1, size=n2), np.random.normal(0, 1, size=n2)]\n",
    "    x=np.vstack((class1, class2))\n",
    "    y=np.concatenate((np.ones((n1)), 2*np.ones((n2))))\n",
    "    \n",
    "    return x, y\n",
    "\n",
    "x, y=create_data(10000, 10000)\n",
    "\n",
    "import time;\n",
    "start=time.time()\n",
    "model.fit(x, y)\n",
    "end=time.time();\n",
    "t=end-start\n",
    "print(t)"
   ]
  },
  {
   "attachments": {},
   "cell_type": "markdown",
   "id": "41af1bd7",
   "metadata": {},
   "source": [
    "\n",
    "| Data size | Fit time |\n",
    "| --- | --- |\n",
    "|$10000^{2}$| 6.01 s|\n",
    "|$7000^2$ |3.69 s|\n",
    "|$6000^2$|3.18 s|\n",
    "|$5000^2$ |2.14 s|\n",
    "|$4000^2$ |1.38 s|\n",
    "|$3000^2$ |0.57 s|\n",
    "|$2000^2$ |0.24 s|\n"
   ]
  },
  {
   "cell_type": "code",
   "execution_count": 319,
   "id": "f47187ea",
   "metadata": {},
   "outputs": [
    {
     "data": {
      "image/png": "[encoded data removed]",
      "text/plain": [
       "<Figure size 640x480 with 1 Axes>"
      ]
     },
     "metadata": {},
     "output_type": "display_data"
    }
   ],
   "source": [
    "plt.plot([10000**2, 7000**2, 6000**2, 5000**2, 4000**2, 3000**2, 2000**2], [6.01, 3.69, 3.18, 2.14, 1.38, 0.57, 0.24])\n",
    "plt.show()"
   ]
  },
  {
   "attachments": {},
   "cell_type": "markdown",
   "id": "ec6655e9",
   "metadata": {},
   "source": [
    "3. The influence appears to be linear $t = \\frac{6}{10^8}d $"
   ]
  }
 ],
 "metadata": {
  "kernelspec": {
   "display_name": "Python 3 (ipykernel)",
   "language": "python",
   "name": "python3"
  },
  "language_info": {
   "codemirror_mode": {
    "name": "ipython",
    "version": 3
   },
   "file_extension": ".py",
   "mimetype": "text/x-python",
   "name": "python",
   "nbconvert_exporter": "python",
   "pygments_lexer": "ipython3",
   "version": "3.11.3"
  }
 },
 "nbformat": 4,
 "nbformat_minor": 5
}
